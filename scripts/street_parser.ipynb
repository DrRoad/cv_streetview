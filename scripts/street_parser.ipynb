{
 "cells": [
  {
   "cell_type": "code",
   "execution_count": 102,
   "metadata": {
    "collapsed": false
   },
   "outputs": [],
   "source": [
    "import geopy \n",
    "import pandas as pd\n",
    "import sys\n",
    "import time\n",
    "import IPython.core.display as dp\n",
    "\n",
    "dataroot = 'C:/Users/lezhi/Dropbox/thesis/data/'\n",
    "tgtroot = 'C:/Users/lezhi/Dropbox/thesis/img/'\n",
    "def strcoor(coor):\n",
    "    return str(coor[0])+','+str(coor[1])"
   ]
  },
  {
   "cell_type": "code",
   "execution_count": 13,
   "metadata": {
    "collapsed": false
   },
   "outputs": [
    {
     "data": {
      "text/html": [
       "<div>\n",
       "<table border=\"1\" class=\"dataframe\">\n",
       "  <thead>\n",
       "    <tr style=\"text-align: right;\">\n",
       "      <th></th>\n",
       "      <th>lat</th>\n",
       "      <th>lng</th>\n",
       "      <th>city</th>\n",
       "    </tr>\n",
       "  </thead>\n",
       "  <tbody>\n",
       "    <tr>\n",
       "      <th>0</th>\n",
       "      <td>41.341298</td>\n",
       "      <td>2.14397662154</td>\n",
       "      <td>barcelona</td>\n",
       "    </tr>\n",
       "    <tr>\n",
       "      <th>1</th>\n",
       "      <td>41.341298</td>\n",
       "      <td>2.14397662154</td>\n",
       "      <td>barcelona</td>\n",
       "    </tr>\n",
       "    <tr>\n",
       "      <th>2</th>\n",
       "      <td>41.341298</td>\n",
       "      <td>2.14397662154</td>\n",
       "      <td>barcelona</td>\n",
       "    </tr>\n",
       "    <tr>\n",
       "      <th>3</th>\n",
       "      <td>41.341298</td>\n",
       "      <td>2.14397662154</td>\n",
       "      <td>barcelona</td>\n",
       "    </tr>\n",
       "    <tr>\n",
       "      <th>4</th>\n",
       "      <td>41.342798</td>\n",
       "      <td>2.12798137831</td>\n",
       "      <td>barcelona</td>\n",
       "    </tr>\n",
       "  </tbody>\n",
       "</table>\n",
       "</div>"
      ],
      "text/plain": [
       "         lat            lng       city\n",
       "0  41.341298  2.14397662154  barcelona\n",
       "1  41.341298  2.14397662154  barcelona\n",
       "2  41.341298  2.14397662154  barcelona\n",
       "3  41.341298  2.14397662154  barcelona\n",
       "4  41.342798  2.12798137831  barcelona"
      ]
     },
     "execution_count": 13,
     "metadata": {},
     "output_type": "execute_result"
    }
   ],
   "source": [
    "coordf = pd.read_csv(dataroot + 'allcoorsvalid.csv')[['lat','lng','city']].astype(str)\n",
    "coordf.head()"
   ]
  },
  {
   "cell_type": "code",
   "execution_count": 16,
   "metadata": {
    "collapsed": false
   },
   "outputs": [
    {
     "data": {
      "text/html": [
       "<div>\n",
       "<table border=\"1\" class=\"dataframe\">\n",
       "  <thead>\n",
       "    <tr style=\"text-align: right;\">\n",
       "      <th></th>\n",
       "      <th>lat</th>\n",
       "      <th>lng</th>\n",
       "      <th>city</th>\n",
       "    </tr>\n",
       "  </thead>\n",
       "  <tbody>\n",
       "    <tr>\n",
       "      <th>0</th>\n",
       "      <td>41.341298</td>\n",
       "      <td>2.14397662154</td>\n",
       "      <td>barcelona</td>\n",
       "    </tr>\n",
       "    <tr>\n",
       "      <th>1</th>\n",
       "      <td>41.342798</td>\n",
       "      <td>2.12798137831</td>\n",
       "      <td>barcelona</td>\n",
       "    </tr>\n",
       "    <tr>\n",
       "      <th>2</th>\n",
       "      <td>41.342798</td>\n",
       "      <td>2.12998078372</td>\n",
       "      <td>barcelona</td>\n",
       "    </tr>\n",
       "    <tr>\n",
       "      <th>3</th>\n",
       "      <td>41.342798</td>\n",
       "      <td>2.13198018912</td>\n",
       "      <td>barcelona</td>\n",
       "    </tr>\n",
       "    <tr>\n",
       "      <th>4</th>\n",
       "      <td>41.342798</td>\n",
       "      <td>2.13997781073</td>\n",
       "      <td>barcelona</td>\n",
       "    </tr>\n",
       "  </tbody>\n",
       "</table>\n",
       "</div>"
      ],
      "text/plain": [
       "         lat            lng       city\n",
       "0  41.341298  2.14397662154  barcelona\n",
       "1  41.342798  2.12798137831  barcelona\n",
       "2  41.342798  2.12998078372  barcelona\n",
       "3  41.342798  2.13198018912  barcelona\n",
       "4  41.342798  2.13997781073  barcelona"
      ]
     },
     "execution_count": 16,
     "metadata": {},
     "output_type": "execute_result"
    }
   ],
   "source": [
    "# unique lat-lng\n",
    "coordf = coordf.drop_duplicates(subset=['lat','lng']).reset_index()\n",
    "del coordf['index']\n",
    "coordf.head()"
   ]
  },
  {
   "cell_type": "code",
   "execution_count": 27,
   "metadata": {
    "collapsed": false
   },
   "outputs": [
    {
     "data": {
      "text/plain": [
       "([('41.341298', '2.14397662154'),\n",
       "  ('41.342798', '2.12798137831'),\n",
       "  ('41.342798', '2.12998078372'),\n",
       "  ('41.342798', '2.13198018912'),\n",
       "  ('41.342798', '2.13997781073')],\n",
       " 34327)"
      ]
     },
     "execution_count": 27,
     "metadata": {},
     "output_type": "execute_result"
    }
   ],
   "source": [
    "lat_lng = zip(coordf[\"lat\"], coordf[\"lng\"])\n",
    "lat_lng[:5], len(lat_lng)"
   ]
  },
  {
   "cell_type": "code",
   "execution_count": 74,
   "metadata": {
    "collapsed": false
   },
   "outputs": [],
   "source": [
    "# delete unnecessary fields\n",
    "def del_redundant(dic, *args):\n",
    "    for i in range(len(args)):\n",
    "        name = args[i]\n",
    "        if (name in dic):\n",
    "            del dic[name]"
   ]
  },
  {
   "cell_type": "code",
   "execution_count": 80,
   "metadata": {
    "collapsed": false
   },
   "outputs": [],
   "source": [
    "def get_details(latlng_tup, index):\n",
    "    geo_para = strcoor(latlng_tup)\n",
    "    try:\n",
    "        location = geolocator.reverse(geo_para)\n",
    "    except:\n",
    "        problem_list.append(index)\n",
    "        start_point = index\n",
    "        print \"Problem position:{}\".format(index)\n",
    "        return {\"error\": True}\n",
    "    detail = location.raw[\"address\"]\n",
    "    del_redundant(detail, 'country_code', 'country', 'state', 'city')\n",
    "    return detail"
   ]
  },
  {
   "cell_type": "code",
   "execution_count": 104,
   "metadata": {
    "collapsed": true
   },
   "outputs": [],
   "source": [
    "# this block should not be changed\n",
    "start_point = 0\n",
    "end_point = len(lat_lng)\n",
    "geolocator = geopy.geocoders.Nominatim()\n",
    "\n",
    "detail_df = pd.DataFrame()\n",
    "problem_list = []"
   ]
  },
  {
   "cell_type": "code",
   "execution_count": null,
   "metadata": {
    "collapsed": false
   },
   "outputs": [],
   "source": [
    "start_time = time.time()\n",
    "now_time = time.time()\n",
    "\n",
    "detail_list = []\n",
    "for i in range(start_point, end_point):      \n",
    "    detail_list.append(get_details(lat_lng[i], i))\n",
    "    \n",
    "    if (i+1)%200 == 0 or i == (end_point - 1):         \n",
    "#         try:\n",
    "#             df = pd.DataFrame(detail_list)\n",
    "#             detail_df = pd.concat([detail_df, df], axis=1)\n",
    "#             detail_df.to_csv(dataroot + \"results_all.csv\")\n",
    "#         except:\n",
    "#             problem_list.append(i)\n",
    "#             start_point = i\n",
    "#             print \"Has a problem in saving csv, position:{}\".format(i)\n",
    "#             raise\n",
    "        \n",
    "        df = pd.DataFrame.from_records(detail_list)\n",
    "        detail_df = detail_df.append(df, ignore_index=True)\n",
    "        detail_df.to_csv(dataroot + \"results_all.csv\", encoding='utf-8')\n",
    "        \n",
    "        dp.clear_output(wait=True)\n",
    "        print \"Ind: {}; Time for recent batch: {}\".format(i, time.time()-now_time)\n",
    "        sys.stdout.flush()\n",
    "        \n",
    "        detail_list = []\n",
    "        now_time = time.time()\n",
    "        \n",
    "    time.sleep(0.6)\n",
    "# \n",
    "# print \"this turn takes:{}\".format(time.time()-now_time)\n",
    "# print \"finish\"\n",
    "#geo_para, address_raw_dict\n",
    "#detail_df"
   ]
  },
  {
   "cell_type": "code",
   "execution_count": 98,
   "metadata": {
    "collapsed": false
   },
   "outputs": [
    {
     "data": {
      "text/html": [
       "<div>\n",
       "<table border=\"1\" class=\"dataframe\">\n",
       "  <thead>\n",
       "    <tr style=\"text-align: right;\">\n",
       "      <th></th>\n",
       "      <th>Unnamed: 0</th>\n",
       "      <th>city_district</th>\n",
       "      <th>county</th>\n",
       "      <th>cycleway</th>\n",
       "      <th>postcode</th>\n",
       "      <th>road</th>\n",
       "      <th>suburb</th>\n",
       "    </tr>\n",
       "  </thead>\n",
       "  <tbody>\n",
       "    <tr>\n",
       "      <th>0</th>\n",
       "      <td>0</td>\n",
       "      <td>Sants-Montjuïc</td>\n",
       "      <td>BCN</td>\n",
       "      <td>via peatonal L9 carrer A</td>\n",
       "      <td>8040</td>\n",
       "      <td>NaN</td>\n",
       "      <td>Zona Franca</td>\n",
       "    </tr>\n",
       "    <tr>\n",
       "      <th>1</th>\n",
       "      <td>1</td>\n",
       "      <td>Sants-Montjuïc</td>\n",
       "      <td>BCN</td>\n",
       "      <td>NaN</td>\n",
       "      <td>8040</td>\n",
       "      <td>Ronda Litoral</td>\n",
       "      <td>Zona Franca</td>\n",
       "    </tr>\n",
       "    <tr>\n",
       "      <th>2</th>\n",
       "      <td>2</td>\n",
       "      <td>Sants-Montjuïc</td>\n",
       "      <td>BCN</td>\n",
       "      <td>NaN</td>\n",
       "      <td>8040</td>\n",
       "      <td>Ronda Litoral</td>\n",
       "      <td>Zona Franca</td>\n",
       "    </tr>\n",
       "    <tr>\n",
       "      <th>3</th>\n",
       "      <td>3</td>\n",
       "      <td>Sants-Montjuïc</td>\n",
       "      <td>BCN</td>\n",
       "      <td>NaN</td>\n",
       "      <td>8040</td>\n",
       "      <td>Avinguda del Parc Logístic</td>\n",
       "      <td>Zona Franca</td>\n",
       "    </tr>\n",
       "    <tr>\n",
       "      <th>4</th>\n",
       "      <td>4</td>\n",
       "      <td>Sants-Montjuïc</td>\n",
       "      <td>BCN</td>\n",
       "      <td>NaN</td>\n",
       "      <td>8040</td>\n",
       "      <td>Carrer Número 2</td>\n",
       "      <td>Zona Franca</td>\n",
       "    </tr>\n",
       "  </tbody>\n",
       "</table>\n",
       "</div>"
      ],
      "text/plain": [
       "   Unnamed: 0   city_district county                  cycleway  postcode  \\\n",
       "0           0  Sants-Montjuïc    BCN  via peatonal L9 carrer A      8040   \n",
       "1           1  Sants-Montjuïc    BCN                       NaN      8040   \n",
       "2           2  Sants-Montjuïc    BCN                       NaN      8040   \n",
       "3           3  Sants-Montjuïc    BCN                       NaN      8040   \n",
       "4           4  Sants-Montjuïc    BCN                       NaN      8040   \n",
       "\n",
       "                         road       suburb  \n",
       "0                         NaN  Zona Franca  \n",
       "1               Ronda Litoral  Zona Franca  \n",
       "2               Ronda Litoral  Zona Franca  \n",
       "3  Avinguda del Parc Logístic  Zona Franca  \n",
       "4             Carrer Número 2  Zona Franca  "
      ]
     },
     "execution_count": 98,
     "metadata": {},
     "output_type": "execute_result"
    }
   ],
   "source": [
    "pd.read_csv(dataroot + \"results_all.csv\", encoding='utf-8')"
   ]
  },
  {
   "cell_type": "code",
   "execution_count": null,
   "metadata": {
    "collapsed": true
   },
   "outputs": [],
   "source": []
  }
 ],
 "metadata": {
  "kernelspec": {
   "display_name": "Python 2",
   "language": "python",
   "name": "python2"
  },
  "language_info": {
   "codemirror_mode": {
    "name": "ipython",
    "version": 2
   },
   "file_extension": ".py",
   "mimetype": "text/x-python",
   "name": "python",
   "nbconvert_exporter": "python",
   "pygments_lexer": "ipython2",
   "version": "2.7.10"
  }
 },
 "nbformat": 4,
 "nbformat_minor": 0
}
