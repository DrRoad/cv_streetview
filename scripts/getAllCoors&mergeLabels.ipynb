{
 "cells": [
  {
   "cell_type": "markdown",
   "metadata": {},
   "source": [
    "# get coors"
   ]
  },
  {
   "cell_type": "code",
   "execution_count": 2,
   "metadata": {
    "collapsed": true
   },
   "outputs": [],
   "source": [
    "import os\n",
    "import pandas as pd\n",
    "import numpy as np\n",
    "dataroot = 'C:/Users/lezhi/Dropbox/thesis/data/'\n",
    "rootdir = 'C:/Users/lezhi/Dropbox/thesis/img_dense/'"
   ]
  },
  {
   "cell_type": "code",
   "execution_count": 19,
   "metadata": {
    "collapsed": false
   },
   "outputs": [],
   "source": [
    "df = pd.DataFrame()\n",
    "\n",
    "citynames = sorted([d for d in os.listdir(rootdir) if os.path.isdir(rootdir)])\n",
    "for cityname in citynames[4:5]:    ############################################# only testing 3 cities now\n",
    "    citypath = os.path.join(rootdir, cityname)\n",
    "    imgnames = sorted([f[:-4] for f in os.listdir(citypath) if os.path.isfile(os.path.join(citypath, f))])\n",
    "\n",
    "    lat_lng_dir = np.array([name.replace('_',',').split(',') for name in imgnames])\n",
    "\n",
    "    df1 = pd.DataFrame(lat_lng_dir, columns=['lat', 'lng', 'dir'])\n",
    "    df1['city'] = cityname\n",
    "    df = df.append(df1, ignore_index=True)\n",
    "\n",
    "df.to_csv(dataroot+'coor_dense_sanfrancisco'+'.csv')        "
   ]
  },
  {
   "cell_type": "code",
   "execution_count": 20,
   "metadata": {
    "collapsed": false
   },
   "outputs": [
    {
     "data": {
      "text/html": [
       "<div>\n",
       "<table border=\"1\" class=\"dataframe\">\n",
       "  <thead>\n",
       "    <tr style=\"text-align: right;\">\n",
       "      <th></th>\n",
       "      <th>lat</th>\n",
       "      <th>lng</th>\n",
       "      <th>dir</th>\n",
       "      <th>city</th>\n",
       "    </tr>\n",
       "  </thead>\n",
       "  <tbody>\n",
       "    <tr>\n",
       "      <th>0</th>\n",
       "      <td>37.71359193</td>\n",
       "      <td>-122.4412364</td>\n",
       "      <td>0</td>\n",
       "      <td>sanfrancisco</td>\n",
       "    </tr>\n",
       "    <tr>\n",
       "      <th>1</th>\n",
       "      <td>37.71359193</td>\n",
       "      <td>-122.4412364</td>\n",
       "      <td>1</td>\n",
       "      <td>sanfrancisco</td>\n",
       "    </tr>\n",
       "    <tr>\n",
       "      <th>2</th>\n",
       "      <td>37.71359193</td>\n",
       "      <td>-122.4412364</td>\n",
       "      <td>2</td>\n",
       "      <td>sanfrancisco</td>\n",
       "    </tr>\n",
       "    <tr>\n",
       "      <th>3</th>\n",
       "      <td>37.71359193</td>\n",
       "      <td>-122.4412364</td>\n",
       "      <td>3</td>\n",
       "      <td>sanfrancisco</td>\n",
       "    </tr>\n",
       "    <tr>\n",
       "      <th>4</th>\n",
       "      <td>37.71359359</td>\n",
       "      <td>-122.4436024</td>\n",
       "      <td>0</td>\n",
       "      <td>sanfrancisco</td>\n",
       "    </tr>\n",
       "  </tbody>\n",
       "</table>\n",
       "</div>"
      ],
      "text/plain": [
       "           lat           lng dir          city\n",
       "0  37.71359193  -122.4412364   0  sanfrancisco\n",
       "1  37.71359193  -122.4412364   1  sanfrancisco\n",
       "2  37.71359193  -122.4412364   2  sanfrancisco\n",
       "3  37.71359193  -122.4412364   3  sanfrancisco\n",
       "4  37.71359359  -122.4436024   0  sanfrancisco"
      ]
     },
     "execution_count": 20,
     "metadata": {},
     "output_type": "execute_result"
    }
   ],
   "source": [
    "df.head()"
   ]
  },
  {
   "cell_type": "markdown",
   "metadata": {},
   "source": [
    "# calculate whether request is incomplete"
   ]
  },
  {
   "cell_type": "code",
   "execution_count": 5,
   "metadata": {
    "collapsed": false
   },
   "outputs": [],
   "source": [
    "a = df.drop_duplicates(['lat','lng'])\n",
    "b = pd.read_csv(dataroot+'request_sanfrancisco.csv').astype(str)"
   ]
  },
  {
   "cell_type": "code",
   "execution_count": 15,
   "metadata": {
    "collapsed": false
   },
   "outputs": [
    {
     "data": {
      "text/html": [
       "<div>\n",
       "<table border=\"1\" class=\"dataframe\">\n",
       "  <thead>\n",
       "    <tr style=\"text-align: right;\">\n",
       "      <th></th>\n",
       "      <th>label</th>\n",
       "      <th>lat</th>\n",
       "      <th>lng</th>\n",
       "      <th>dir</th>\n",
       "      <th>city</th>\n",
       "    </tr>\n",
       "  </thead>\n",
       "  <tbody>\n",
       "  </tbody>\n",
       "</table>\n",
       "</div>"
      ],
      "text/plain": [
       "Empty DataFrame\n",
       "Columns: [label, lat, lng, dir, city]\n",
       "Index: []"
      ]
     },
     "execution_count": 15,
     "metadata": {},
     "output_type": "execute_result"
    }
   ],
   "source": [
    "c = pd.merge(b, a, how='left', on=['lat','lng'])\n",
    "c[pd.isnull(c['city'])]"
   ]
  },
  {
   "cell_type": "markdown",
   "metadata": {},
   "source": [
    "# merge labels"
   ]
  },
  {
   "cell_type": "code",
   "execution_count": 21,
   "metadata": {
    "collapsed": false
   },
   "outputs": [
    {
     "data": {
      "text/html": [
       "<div>\n",
       "<table border=\"1\" class=\"dataframe\">\n",
       "  <thead>\n",
       "    <tr style=\"text-align: right;\">\n",
       "      <th></th>\n",
       "      <th>lat</th>\n",
       "      <th>lng</th>\n",
       "      <th>dir</th>\n",
       "      <th>city</th>\n",
       "      <th>label</th>\n",
       "      <th>filename</th>\n",
       "    </tr>\n",
       "  </thead>\n",
       "  <tbody>\n",
       "    <tr>\n",
       "      <th>0</th>\n",
       "      <td>37.71359193</td>\n",
       "      <td>-122.4412364</td>\n",
       "      <td>0</td>\n",
       "      <td>sanfrancisco</td>\n",
       "      <td>Crocker Amazon</td>\n",
       "      <td>sanfrancisco/37.71359193,-122.4412364_0.jpg</td>\n",
       "    </tr>\n",
       "    <tr>\n",
       "      <th>1</th>\n",
       "      <td>37.71359193</td>\n",
       "      <td>-122.4412364</td>\n",
       "      <td>1</td>\n",
       "      <td>sanfrancisco</td>\n",
       "      <td>Crocker Amazon</td>\n",
       "      <td>sanfrancisco/37.71359193,-122.4412364_1.jpg</td>\n",
       "    </tr>\n",
       "    <tr>\n",
       "      <th>2</th>\n",
       "      <td>37.71359193</td>\n",
       "      <td>-122.4412364</td>\n",
       "      <td>2</td>\n",
       "      <td>sanfrancisco</td>\n",
       "      <td>Crocker Amazon</td>\n",
       "      <td>sanfrancisco/37.71359193,-122.4412364_2.jpg</td>\n",
       "    </tr>\n",
       "    <tr>\n",
       "      <th>3</th>\n",
       "      <td>37.71359193</td>\n",
       "      <td>-122.4412364</td>\n",
       "      <td>3</td>\n",
       "      <td>sanfrancisco</td>\n",
       "      <td>Crocker Amazon</td>\n",
       "      <td>sanfrancisco/37.71359193,-122.4412364_3.jpg</td>\n",
       "    </tr>\n",
       "    <tr>\n",
       "      <th>4</th>\n",
       "      <td>37.71359359</td>\n",
       "      <td>-122.4436024</td>\n",
       "      <td>0</td>\n",
       "      <td>sanfrancisco</td>\n",
       "      <td>Outer Mission</td>\n",
       "      <td>sanfrancisco/37.71359359,-122.4436024_0.jpg</td>\n",
       "    </tr>\n",
       "  </tbody>\n",
       "</table>\n",
       "</div>"
      ],
      "text/plain": [
       "           lat           lng dir          city           label  \\\n",
       "0  37.71359193  -122.4412364   0  sanfrancisco  Crocker Amazon   \n",
       "1  37.71359193  -122.4412364   1  sanfrancisco  Crocker Amazon   \n",
       "2  37.71359193  -122.4412364   2  sanfrancisco  Crocker Amazon   \n",
       "3  37.71359193  -122.4412364   3  sanfrancisco  Crocker Amazon   \n",
       "4  37.71359359  -122.4436024   0  sanfrancisco   Outer Mission   \n",
       "\n",
       "                                      filename  \n",
       "0  sanfrancisco/37.71359193,-122.4412364_0.jpg  \n",
       "1  sanfrancisco/37.71359193,-122.4412364_1.jpg  \n",
       "2  sanfrancisco/37.71359193,-122.4412364_2.jpg  \n",
       "3  sanfrancisco/37.71359193,-122.4412364_3.jpg  \n",
       "4  sanfrancisco/37.71359359,-122.4436024_0.jpg  "
      ]
     },
     "execution_count": 21,
     "metadata": {},
     "output_type": "execute_result"
    }
   ],
   "source": [
    "labelsdf = pd.read_csv(dataroot+'request_sanfrancisco.csv').astype(str)\n",
    "b = pd.merge(df, labelsdf[['lat','lng','label']], on=['lat','lng'])\n",
    "b['filename'] = b.apply(lambda x: x['city']+'/'+x['lat']+','+x['lng']+'_'+x['dir']+'.jpg', axis=1)\n",
    "b.head()"
   ]
  },
  {
   "cell_type": "markdown",
   "metadata": {},
   "source": [
    "### remove very small classes"
   ]
  },
  {
   "cell_type": "markdown",
   "metadata": {},
   "source": [
    "#### number of image in each class"
   ]
  },
  {
   "cell_type": "code",
   "execution_count": 22,
   "metadata": {
    "collapsed": false
   },
   "outputs": [
    {
     "data": {
      "text/plain": [
       "label\n",
       "Bayview                828\n",
       "Bernal Heights         968\n",
       "Castro-Upper Market    952\n",
       "Chinatown              887\n",
       "Crocker Amazon         980\n",
       "Diamond Heights        856\n",
       "Downtown               852\n",
       "Excelsior              893\n",
       "Financial District     856\n",
       "Glen Park              984\n",
       "Haight-Ashbury         908\n",
       "Inner Richmond         940\n",
       "Inner Sunset           884\n",
       "Lakeshore              868\n",
       "Marina                 871\n",
       "Mission                909\n",
       "Nob Hill               929\n",
       "Noe Valley             968\n",
       "North Beach            836\n",
       "Ocean View             964\n",
       "Outer Mission          916\n",
       "Outer Richmond         952\n",
       "Outer Sunset           924\n",
       "Pacific Heights        972\n",
       "Parkside               972\n",
       "Potrero Hill           796\n",
       "Presidio Heights       928\n",
       "Russian Hill           924\n",
       "Seacliff               472\n",
       "South Of Market        868\n",
       "Twin Peaks             780\n",
       "Visitacion Valley      208\n",
       "West Of Twin Peaks     936\n",
       "Western Addition       936\n",
       "dtype: int64"
      ]
     },
     "execution_count": 22,
     "metadata": {},
     "output_type": "execute_result"
    }
   ],
   "source": [
    "b.groupby('label').size()"
   ]
  },
  {
   "cell_type": "code",
   "execution_count": 23,
   "metadata": {
    "collapsed": false
   },
   "outputs": [],
   "source": [
    "b_filtered = b[map(lambda ele: (ele!='Visitacion Valley' and ele!='Crocker Amazon'), b['label'])]\n",
    "# b_filtered = b[map(lambda ele: (ele!='Oakland' and ele!='Fuller Park' and ele!='Grand Boulevard' and ele!='New City' and ele!='Brighton Park'), b['label'])]"
   ]
  },
  {
   "cell_type": "code",
   "execution_count": 24,
   "metadata": {
    "collapsed": false
   },
   "outputs": [
    {
     "data": {
      "text/plain": [
       "label\n",
       "Bayview                828\n",
       "Bernal Heights         968\n",
       "Castro-Upper Market    952\n",
       "Chinatown              887\n",
       "Diamond Heights        856\n",
       "Downtown               852\n",
       "Excelsior              893\n",
       "Financial District     856\n",
       "Glen Park              984\n",
       "Haight-Ashbury         908\n",
       "Inner Richmond         940\n",
       "Inner Sunset           884\n",
       "Lakeshore              868\n",
       "Marina                 871\n",
       "Mission                909\n",
       "Nob Hill               929\n",
       "Noe Valley             968\n",
       "North Beach            836\n",
       "Ocean View             964\n",
       "Outer Mission          916\n",
       "Outer Richmond         952\n",
       "Outer Sunset           924\n",
       "Pacific Heights        972\n",
       "Parkside               972\n",
       "Potrero Hill           796\n",
       "Presidio Heights       928\n",
       "Russian Hill           924\n",
       "Seacliff               472\n",
       "South Of Market        868\n",
       "Twin Peaks             780\n",
       "West Of Twin Peaks     936\n",
       "Western Addition       936\n",
       "dtype: int64"
      ]
     },
     "execution_count": 24,
     "metadata": {},
     "output_type": "execute_result"
    }
   ],
   "source": [
    "b_filtered.groupby('label').size()"
   ]
  },
  {
   "cell_type": "code",
   "execution_count": 25,
   "metadata": {
    "collapsed": false
   },
   "outputs": [],
   "source": [
    "b_filtered = b_filtered.reset_index()\n",
    "del b_filtered['index']\n",
    "b_filtered.to_csv(dataroot+'labels_dense_sanfrancisco_jpg.csv')"
   ]
  },
  {
   "cell_type": "markdown",
   "metadata": {},
   "source": [
    "#### number of classes"
   ]
  },
  {
   "cell_type": "code",
   "execution_count": 26,
   "metadata": {
    "collapsed": false
   },
   "outputs": [
    {
     "data": {
      "text/plain": [
       "32"
      ]
     },
     "execution_count": 26,
     "metadata": {},
     "output_type": "execute_result"
    }
   ],
   "source": [
    "len(b_filtered['label'].unique())"
   ]
  },
  {
   "cell_type": "markdown",
   "metadata": {},
   "source": [
    "### below are trials to get coors"
   ]
  },
  {
   "cell_type": "code",
   "execution_count": 12,
   "metadata": {
    "collapsed": false
   },
   "outputs": [
    {
     "data": {
      "text/plain": [
       "['35.638226', '139.771862328', '2']"
      ]
     },
     "execution_count": 12,
     "metadata": {},
     "output_type": "execute_result"
    }
   ],
   "source": [
    "imgnames[578].replace('_',',').split(',')"
   ]
  },
  {
   "cell_type": "code",
   "execution_count": 17,
   "metadata": {
    "collapsed": false
   },
   "outputs": [
    {
     "data": {
      "text/plain": [
       "array([['35.630726', '139.747854768', '0'],\n",
       "       ['35.630726', '139.747854768', '1'],\n",
       "       ['35.630726', '139.747854768', '2'],\n",
       "       ..., \n",
       "       ['35.737226', '139.766322122', '1'],\n",
       "       ['35.737226', '139.766322122', '2'],\n",
       "       ['35.737226', '139.766322122', '3']], \n",
       "      dtype='|S13')"
      ]
     },
     "execution_count": 17,
     "metadata": {},
     "output_type": "execute_result"
    }
   ],
   "source": [
    "lat_lng_dir = np.array([name.replace('_',',').split(',') for name in imgnames])\n",
    "lat_lng_dir"
   ]
  },
  {
   "cell_type": "code",
   "execution_count": 21,
   "metadata": {
    "collapsed": false
   },
   "outputs": [
    {
     "data": {
      "text/html": [
       "<div>\n",
       "<table border=\"1\" class=\"dataframe\">\n",
       "  <thead>\n",
       "    <tr style=\"text-align: right;\">\n",
       "      <th></th>\n",
       "      <th>lat</th>\n",
       "      <th>lng</th>\n",
       "      <th>dir</th>\n",
       "      <th>city</th>\n",
       "    </tr>\n",
       "  </thead>\n",
       "  <tbody>\n",
       "    <tr>\n",
       "      <th>0</th>\n",
       "      <td>35.630726</td>\n",
       "      <td>139.747854768</td>\n",
       "      <td>0</td>\n",
       "      <td>boston</td>\n",
       "    </tr>\n",
       "    <tr>\n",
       "      <th>1</th>\n",
       "      <td>35.630726</td>\n",
       "      <td>139.747854768</td>\n",
       "      <td>1</td>\n",
       "      <td>boston</td>\n",
       "    </tr>\n",
       "    <tr>\n",
       "      <th>2</th>\n",
       "      <td>35.630726</td>\n",
       "      <td>139.747854768</td>\n",
       "      <td>2</td>\n",
       "      <td>boston</td>\n",
       "    </tr>\n",
       "    <tr>\n",
       "      <th>3</th>\n",
       "      <td>35.630726</td>\n",
       "      <td>139.747854768</td>\n",
       "      <td>3</td>\n",
       "      <td>boston</td>\n",
       "    </tr>\n",
       "    <tr>\n",
       "      <th>4</th>\n",
       "      <td>35.630726</td>\n",
       "      <td>139.749701504</td>\n",
       "      <td>0</td>\n",
       "      <td>boston</td>\n",
       "    </tr>\n",
       "  </tbody>\n",
       "</table>\n",
       "</div>"
      ],
      "text/plain": [
       "         lat            lng dir    city\n",
       "0  35.630726  139.747854768   0  boston\n",
       "1  35.630726  139.747854768   1  boston\n",
       "2  35.630726  139.747854768   2  boston\n",
       "3  35.630726  139.747854768   3  boston\n",
       "4  35.630726  139.749701504   0  boston"
      ]
     },
     "execution_count": 21,
     "metadata": {},
     "output_type": "execute_result"
    }
   ],
   "source": [
    "df = pd.DataFrame(lat_lng_dir, columns=['lat', 'lng', 'dir'])\n",
    "df['city'] = 'boston'\n",
    "df.head()"
   ]
  },
  {
   "cell_type": "code",
   "execution_count": 20,
   "metadata": {
    "collapsed": true
   },
   "outputs": [],
   "source": [
    "df.to_csv('C:/Users/lezhi/Dropbox/thesis/'+'cityname'+'.csv')"
   ]
  }
 ],
 "metadata": {
  "kernelspec": {
   "display_name": "Python 2",
   "language": "python",
   "name": "python2"
  },
  "language_info": {
   "codemirror_mode": {
    "name": "ipython",
    "version": 2
   },
   "file_extension": ".py",
   "mimetype": "text/x-python",
   "name": "python",
   "nbconvert_exporter": "python",
   "pygments_lexer": "ipython2",
   "version": "2.7.11"
  }
 },
 "nbformat": 4,
 "nbformat_minor": 0
}
