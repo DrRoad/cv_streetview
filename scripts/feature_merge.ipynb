{
 "cells": [
  {
   "cell_type": "code",
   "execution_count": 13,
   "metadata": {
    "collapsed": true
   },
   "outputs": [],
   "source": [
    "import numpy as np\n",
    "# import matplotlib.pyplot as plt\n",
    "# %matplotlib inline\n",
    "# import os\n",
    "# import sys\n",
    "import pandas as pd\n",
    "\n",
    "dataroot = 'C:/Users/lezhi/Dropbox/thesis/data/'\n",
    "tgtroot = 'C:/Users/lezhi/Dropbox/thesis/img/'"
   ]
  },
  {
   "cell_type": "code",
   "execution_count": 14,
   "metadata": {
    "collapsed": true
   },
   "outputs": [],
   "source": [
    "cities = ['boston', 'chicago', 'newyork', 'sanfrancisco']\n",
    "#cities = ['boston']\n",
    "features = ['sky_tree', 'entropy_mean', 'color4']"
   ]
  },
  {
   "cell_type": "code",
   "execution_count": 16,
   "metadata": {
    "collapsed": false
   },
   "outputs": [],
   "source": [
    "for c in cities:\n",
    "    df = pd.read_csv(dataroot+features[0]+'_'+c+'.csv', index_col=0)\n",
    "    for f in features[1:]:\n",
    "        df1 = pd.read_csv(dataroot + f + '_' + c + '.csv', index_col=0)\n",
    "        df = pd.merge(df, df1, how='outer', on=['lat','lng'])\n",
    "        \n",
    "    df.loc[pd.isnull(df['color']), 'entropy_mean'] = np.nan\n",
    "        \n",
    "    df.to_csv(dataroot + c + '.csv')"
   ]
  },
  {
   "cell_type": "code",
   "execution_count": 12,
   "metadata": {
    "collapsed": false
   },
   "outputs": [
    {
     "data": {
      "text/plain": [
       "123"
      ]
     },
     "execution_count": 12,
     "metadata": {},
     "output_type": "execute_result"
    }
   ],
   "source": [
    "np.sum(pd.isnull(df['color']))"
   ]
  },
  {
   "cell_type": "code",
   "execution_count": null,
   "metadata": {
    "collapsed": true
   },
   "outputs": [],
   "source": []
  }
 ],
 "metadata": {
  "kernelspec": {
   "display_name": "Python 2",
   "language": "python",
   "name": "python2"
  },
  "language_info": {
   "codemirror_mode": {
    "name": "ipython",
    "version": 2
   },
   "file_extension": ".py",
   "mimetype": "text/x-python",
   "name": "python",
   "nbconvert_exporter": "python",
   "pygments_lexer": "ipython2",
   "version": "2.7.11"
  }
 },
 "nbformat": 4,
 "nbformat_minor": 0
}
