{
 "cells": [
  {
   "cell_type": "markdown",
   "metadata": {},
   "source": [
    "# get coors"
   ]
  },
  {
   "cell_type": "code",
   "execution_count": 2,
   "metadata": {
    "collapsed": true
   },
   "outputs": [],
   "source": [
    "import os\n",
    "import pandas as pd\n",
    "import numpy as np\n",
    "dataroot = 'C:/Users/lezhi/Dropbox/thesis/data/'"
   ]
  },
  {
   "cell_type": "code",
   "execution_count": 4,
   "metadata": {
    "collapsed": false
   },
   "outputs": [],
   "source": [
    "rootdir = 'C:/Users/lezhi/Dropbox/thesis/img_dense/'\n",
    "df = pd.DataFrame()\n",
    "\n",
    "citynames = sorted([d for d in os.listdir(rootdir) if os.path.isdir(rootdir)])\n",
    "for cityname in citynames[1:]:    ############################################# only testing 3 cities now\n",
    "    citypath = os.path.join(rootdir, cityname)\n",
    "    imgnames = sorted([f[:-4] for f in os.listdir(citypath) if os.path.isfile(os.path.join(citypath, f))])\n",
    "\n",
    "    lat_lng_dir = np.array([name.replace('_',',').split(',') for name in imgnames])\n",
    "\n",
    "    df1 = pd.DataFrame(lat_lng_dir, columns=['lat', 'lng', 'dir'])\n",
    "    df1['city'] = cityname\n",
    "    df = df.append(df1, ignore_index=True)\n",
    "\n",
    "df.to_csv(dataroot+'dense_coor_singapore'+'.csv')        "
   ]
  },
  {
   "cell_type": "code",
   "execution_count": 5,
   "metadata": {
    "collapsed": false
   },
   "outputs": [
    {
     "data": {
      "text/html": [
       "<div>\n",
       "<table border=\"1\" class=\"dataframe\">\n",
       "  <thead>\n",
       "    <tr style=\"text-align: right;\">\n",
       "      <th></th>\n",
       "      <th>lat</th>\n",
       "      <th>lng</th>\n",
       "      <th>dir</th>\n",
       "      <th>city</th>\n",
       "    </tr>\n",
       "  </thead>\n",
       "  <tbody>\n",
       "    <tr>\n",
       "      <th>0</th>\n",
       "      <td>1.249458593</td>\n",
       "      <td>103.8272394</td>\n",
       "      <td>0</td>\n",
       "      <td>singapore</td>\n",
       "    </tr>\n",
       "    <tr>\n",
       "      <th>1</th>\n",
       "      <td>1.249458593</td>\n",
       "      <td>103.8272394</td>\n",
       "      <td>1</td>\n",
       "      <td>singapore</td>\n",
       "    </tr>\n",
       "    <tr>\n",
       "      <th>2</th>\n",
       "      <td>1.249458593</td>\n",
       "      <td>103.8272394</td>\n",
       "      <td>2</td>\n",
       "      <td>singapore</td>\n",
       "    </tr>\n",
       "    <tr>\n",
       "      <th>3</th>\n",
       "      <td>1.249458593</td>\n",
       "      <td>103.8272394</td>\n",
       "      <td>3</td>\n",
       "      <td>singapore</td>\n",
       "    </tr>\n",
       "    <tr>\n",
       "      <th>4</th>\n",
       "      <td>1.249767326</td>\n",
       "      <td>103.826907</td>\n",
       "      <td>0</td>\n",
       "      <td>singapore</td>\n",
       "    </tr>\n",
       "  </tbody>\n",
       "</table>\n",
       "</div>"
      ],
      "text/plain": [
       "           lat          lng dir       city\n",
       "0  1.249458593  103.8272394   0  singapore\n",
       "1  1.249458593  103.8272394   1  singapore\n",
       "2  1.249458593  103.8272394   2  singapore\n",
       "3  1.249458593  103.8272394   3  singapore\n",
       "4  1.249767326   103.826907   0  singapore"
      ]
     },
     "execution_count": 5,
     "metadata": {},
     "output_type": "execute_result"
    }
   ],
   "source": [
    "df.head()"
   ]
  },
  {
   "cell_type": "markdown",
   "metadata": {},
   "source": [
    "# merge labels"
   ]
  },
  {
   "cell_type": "code",
   "execution_count": 6,
   "metadata": {
    "collapsed": false
   },
   "outputs": [
    {
     "data": {
      "text/html": [
       "<div>\n",
       "<table border=\"1\" class=\"dataframe\">\n",
       "  <thead>\n",
       "    <tr style=\"text-align: right;\">\n",
       "      <th></th>\n",
       "      <th>lat</th>\n",
       "      <th>lng</th>\n",
       "      <th>dir</th>\n",
       "      <th>city</th>\n",
       "      <th>label</th>\n",
       "      <th>filename</th>\n",
       "    </tr>\n",
       "  </thead>\n",
       "  <tbody>\n",
       "    <tr>\n",
       "      <th>0</th>\n",
       "      <td>1.249458593</td>\n",
       "      <td>103.8272394</td>\n",
       "      <td>0</td>\n",
       "      <td>singapore</td>\n",
       "      <td>Southern Islands</td>\n",
       "      <td>singapore/1.249458593,103.8272394_0.png</td>\n",
       "    </tr>\n",
       "    <tr>\n",
       "      <th>1</th>\n",
       "      <td>1.249458593</td>\n",
       "      <td>103.8272394</td>\n",
       "      <td>1</td>\n",
       "      <td>singapore</td>\n",
       "      <td>Southern Islands</td>\n",
       "      <td>singapore/1.249458593,103.8272394_1.png</td>\n",
       "    </tr>\n",
       "    <tr>\n",
       "      <th>2</th>\n",
       "      <td>1.249458593</td>\n",
       "      <td>103.8272394</td>\n",
       "      <td>2</td>\n",
       "      <td>singapore</td>\n",
       "      <td>Southern Islands</td>\n",
       "      <td>singapore/1.249458593,103.8272394_2.png</td>\n",
       "    </tr>\n",
       "    <tr>\n",
       "      <th>3</th>\n",
       "      <td>1.249458593</td>\n",
       "      <td>103.8272394</td>\n",
       "      <td>3</td>\n",
       "      <td>singapore</td>\n",
       "      <td>Southern Islands</td>\n",
       "      <td>singapore/1.249458593,103.8272394_3.png</td>\n",
       "    </tr>\n",
       "    <tr>\n",
       "      <th>4</th>\n",
       "      <td>1.249767326</td>\n",
       "      <td>103.826907</td>\n",
       "      <td>0</td>\n",
       "      <td>singapore</td>\n",
       "      <td>Southern Islands</td>\n",
       "      <td>singapore/1.249767326,103.826907_0.png</td>\n",
       "    </tr>\n",
       "  </tbody>\n",
       "</table>\n",
       "</div>"
      ],
      "text/plain": [
       "           lat          lng dir       city             label  \\\n",
       "0  1.249458593  103.8272394   0  singapore  Southern Islands   \n",
       "1  1.249458593  103.8272394   1  singapore  Southern Islands   \n",
       "2  1.249458593  103.8272394   2  singapore  Southern Islands   \n",
       "3  1.249458593  103.8272394   3  singapore  Southern Islands   \n",
       "4  1.249767326   103.826907   0  singapore  Southern Islands   \n",
       "\n",
       "                                  filename  \n",
       "0  singapore/1.249458593,103.8272394_0.png  \n",
       "1  singapore/1.249458593,103.8272394_1.png  \n",
       "2  singapore/1.249458593,103.8272394_2.png  \n",
       "3  singapore/1.249458593,103.8272394_3.png  \n",
       "4   singapore/1.249767326,103.826907_0.png  "
      ]
     },
     "execution_count": 6,
     "metadata": {},
     "output_type": "execute_result"
    }
   ],
   "source": [
    "labelsdf = pd.read_csv(dataroot+'request_singapore.csv').astype(str)\n",
    "b = pd.merge(df, labelsdf[['lat','lng','label']], on=['lat','lng'])\n",
    "b['filename'] = b.apply(lambda x: x['city']+'/'+x['lat']+','+x['lng']+'_'+x['dir']+'.png', axis=1)\n",
    "b.head()"
   ]
  },
  {
   "cell_type": "code",
   "execution_count": 7,
   "metadata": {
    "collapsed": false
   },
   "outputs": [],
   "source": [
    "b.to_csv(dataroot+'labels_dense_singapore.csv')"
   ]
  },
  {
   "cell_type": "markdown",
   "metadata": {},
   "source": [
    "### remove very small classes"
   ]
  },
  {
   "cell_type": "code",
   "execution_count": 12,
   "metadata": {
    "collapsed": false
   },
   "outputs": [],
   "source": [
    "b_filtered = b[map(lambda ele: (ele!='Central Water Catchment' and ele!='Marina East'), b['label'])]"
   ]
  },
  {
   "cell_type": "code",
   "execution_count": 19,
   "metadata": {
    "collapsed": false
   },
   "outputs": [],
   "source": [
    "b_filtered = b_filtered.reset_index()\n",
    "del b_filtered['index']\n",
    "b_filtered.to_csv(dataroot+'labels_dense_singapore.csv')"
   ]
  },
  {
   "cell_type": "markdown",
   "metadata": {},
   "source": [
    "#### number of classes"
   ]
  },
  {
   "cell_type": "code",
   "execution_count": 13,
   "metadata": {
    "collapsed": false
   },
   "outputs": [
    {
     "data": {
      "text/plain": [
       "40"
      ]
     },
     "execution_count": 13,
     "metadata": {},
     "output_type": "execute_result"
    }
   ],
   "source": [
    "len(b['label'].unique())"
   ]
  },
  {
   "cell_type": "markdown",
   "metadata": {},
   "source": [
    "#### number of image in each class"
   ]
  },
  {
   "cell_type": "code",
   "execution_count": 8,
   "metadata": {
    "collapsed": false
   },
   "outputs": [
    {
     "data": {
      "text/plain": [
       "label\n",
       "Bishan                     793\n",
       "Bukit Merah                552\n",
       "Bukit Timah                688\n",
       "Central Water Catchment    184\n",
       "Downtown Core              752\n",
       "Geylang                    758\n",
       "Marina East                259\n",
       "Marina South               739\n",
       "Museum                     748\n",
       "Newton                     596\n",
       "Novena                     692\n",
       "Orchard                    596\n",
       "Outram                     620\n",
       "Queenstown                 592\n",
       "River Valley               668\n",
       "Rochor                     864\n",
       "Sallang                    631\n",
       "Singapore River            667\n",
       "Southern Islands           512\n",
       "Straits View               509\n",
       "Tanglin                    592\n",
       "Toa Payoh                  688\n",
       "dtype: int64"
      ]
     },
     "execution_count": 8,
     "metadata": {},
     "output_type": "execute_result"
    }
   ],
   "source": [
    "b.groupby('label').size()"
   ]
  },
  {
   "cell_type": "markdown",
   "metadata": {},
   "source": [
    "### below are trials to get coors"
   ]
  },
  {
   "cell_type": "code",
   "execution_count": 12,
   "metadata": {
    "collapsed": false
   },
   "outputs": [
    {
     "data": {
      "text/plain": [
       "['35.638226', '139.771862328', '2']"
      ]
     },
     "execution_count": 12,
     "metadata": {},
     "output_type": "execute_result"
    }
   ],
   "source": [
    "imgnames[578].replace('_',',').split(',')"
   ]
  },
  {
   "cell_type": "code",
   "execution_count": 17,
   "metadata": {
    "collapsed": false
   },
   "outputs": [
    {
     "data": {
      "text/plain": [
       "array([['35.630726', '139.747854768', '0'],\n",
       "       ['35.630726', '139.747854768', '1'],\n",
       "       ['35.630726', '139.747854768', '2'],\n",
       "       ..., \n",
       "       ['35.737226', '139.766322122', '1'],\n",
       "       ['35.737226', '139.766322122', '2'],\n",
       "       ['35.737226', '139.766322122', '3']], \n",
       "      dtype='|S13')"
      ]
     },
     "execution_count": 17,
     "metadata": {},
     "output_type": "execute_result"
    }
   ],
   "source": [
    "lat_lng_dir = np.array([name.replace('_',',').split(',') for name in imgnames])\n",
    "lat_lng_dir"
   ]
  },
  {
   "cell_type": "code",
   "execution_count": 21,
   "metadata": {
    "collapsed": false
   },
   "outputs": [
    {
     "data": {
      "text/html": [
       "<div>\n",
       "<table border=\"1\" class=\"dataframe\">\n",
       "  <thead>\n",
       "    <tr style=\"text-align: right;\">\n",
       "      <th></th>\n",
       "      <th>lat</th>\n",
       "      <th>lng</th>\n",
       "      <th>dir</th>\n",
       "      <th>city</th>\n",
       "    </tr>\n",
       "  </thead>\n",
       "  <tbody>\n",
       "    <tr>\n",
       "      <th>0</th>\n",
       "      <td>35.630726</td>\n",
       "      <td>139.747854768</td>\n",
       "      <td>0</td>\n",
       "      <td>boston</td>\n",
       "    </tr>\n",
       "    <tr>\n",
       "      <th>1</th>\n",
       "      <td>35.630726</td>\n",
       "      <td>139.747854768</td>\n",
       "      <td>1</td>\n",
       "      <td>boston</td>\n",
       "    </tr>\n",
       "    <tr>\n",
       "      <th>2</th>\n",
       "      <td>35.630726</td>\n",
       "      <td>139.747854768</td>\n",
       "      <td>2</td>\n",
       "      <td>boston</td>\n",
       "    </tr>\n",
       "    <tr>\n",
       "      <th>3</th>\n",
       "      <td>35.630726</td>\n",
       "      <td>139.747854768</td>\n",
       "      <td>3</td>\n",
       "      <td>boston</td>\n",
       "    </tr>\n",
       "    <tr>\n",
       "      <th>4</th>\n",
       "      <td>35.630726</td>\n",
       "      <td>139.749701504</td>\n",
       "      <td>0</td>\n",
       "      <td>boston</td>\n",
       "    </tr>\n",
       "  </tbody>\n",
       "</table>\n",
       "</div>"
      ],
      "text/plain": [
       "         lat            lng dir    city\n",
       "0  35.630726  139.747854768   0  boston\n",
       "1  35.630726  139.747854768   1  boston\n",
       "2  35.630726  139.747854768   2  boston\n",
       "3  35.630726  139.747854768   3  boston\n",
       "4  35.630726  139.749701504   0  boston"
      ]
     },
     "execution_count": 21,
     "metadata": {},
     "output_type": "execute_result"
    }
   ],
   "source": [
    "df = pd.DataFrame(lat_lng_dir, columns=['lat', 'lng', 'dir'])\n",
    "df['city'] = 'boston'\n",
    "df.head()"
   ]
  },
  {
   "cell_type": "code",
   "execution_count": 20,
   "metadata": {
    "collapsed": true
   },
   "outputs": [],
   "source": [
    "df.to_csv('C:/Users/lezhi/Dropbox/thesis/'+'cityname'+'.csv')"
   ]
  }
 ],
 "metadata": {
  "kernelspec": {
   "display_name": "Python 2",
   "language": "python",
   "name": "python2"
  },
  "language_info": {
   "codemirror_mode": {
    "name": "ipython",
    "version": 2
   },
   "file_extension": ".py",
   "mimetype": "text/x-python",
   "name": "python",
   "nbconvert_exporter": "python",
   "pygments_lexer": "ipython2",
   "version": "2.7.11"
  }
 },
 "nbformat": 4,
 "nbformat_minor": 0
}
