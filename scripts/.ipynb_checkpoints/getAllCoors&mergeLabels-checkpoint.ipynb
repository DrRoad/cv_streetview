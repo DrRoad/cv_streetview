{
 "cells": [
  {
   "cell_type": "markdown",
   "metadata": {},
   "source": [
    "# get coors"
   ]
  },
  {
   "cell_type": "code",
   "execution_count": 2,
   "metadata": {
    "collapsed": true
   },
   "outputs": [],
   "source": [
    "import os\n",
    "import pandas as pd\n",
    "import numpy as np\n",
    "dataroot = 'C:/Users/lezhi/Dropbox/thesis/data/'"
   ]
  },
  {
   "cell_type": "code",
   "execution_count": 3,
   "metadata": {
    "collapsed": false
   },
   "outputs": [],
   "source": [
    "rootdir = 'C:/Users/lezhi/Dropbox/thesis/img_dense/'\n",
    "df = pd.DataFrame()\n",
    "\n",
    "citynames = sorted([d for d in os.listdir(rootdir) if os.path.isdir(rootdir)])\n",
    "for cityname in citynames:    ############################################# only testing 3 cities now\n",
    "    citypath = os.path.join(rootdir, cityname)\n",
    "    imgnames = sorted([f[:-4] for f in os.listdir(citypath) if os.path.isfile(os.path.join(citypath, f))])\n",
    "\n",
    "    lat_lng_dir = np.array([name.replace('_',',').split(',') for name in imgnames])\n",
    "\n",
    "    df1 = pd.DataFrame(lat_lng_dir, columns=['lat', 'lng', 'dir'])\n",
    "    df1['city'] = cityname\n",
    "    df = df.append(df1, ignore_index=True)\n",
    "\n",
    "df.to_csv(dataroot+'allcoorsdense'+'.csv')        "
   ]
  },
  {
   "cell_type": "code",
   "execution_count": 4,
   "metadata": {
    "collapsed": false
   },
   "outputs": [
    {
     "data": {
      "text/html": [
       "<div>\n",
       "<table border=\"1\" class=\"dataframe\">\n",
       "  <thead>\n",
       "    <tr style=\"text-align: right;\">\n",
       "      <th></th>\n",
       "      <th>lat</th>\n",
       "      <th>lng</th>\n",
       "      <th>dir</th>\n",
       "      <th>city</th>\n",
       "    </tr>\n",
       "  </thead>\n",
       "  <tbody>\n",
       "    <tr>\n",
       "      <th>0</th>\n",
       "      <td>42.29923127</td>\n",
       "      <td>-71.07993968</td>\n",
       "      <td>0</td>\n",
       "      <td>boston</td>\n",
       "    </tr>\n",
       "    <tr>\n",
       "      <th>1</th>\n",
       "      <td>42.29923127</td>\n",
       "      <td>-71.07993968</td>\n",
       "      <td>1</td>\n",
       "      <td>boston</td>\n",
       "    </tr>\n",
       "    <tr>\n",
       "      <th>2</th>\n",
       "      <td>42.29923127</td>\n",
       "      <td>-71.07993968</td>\n",
       "      <td>2</td>\n",
       "      <td>boston</td>\n",
       "    </tr>\n",
       "    <tr>\n",
       "      <th>3</th>\n",
       "      <td>42.29923127</td>\n",
       "      <td>-71.07993968</td>\n",
       "      <td>3</td>\n",
       "      <td>boston</td>\n",
       "    </tr>\n",
       "    <tr>\n",
       "      <th>4</th>\n",
       "      <td>42.29999973</td>\n",
       "      <td>-71.08272406</td>\n",
       "      <td>0</td>\n",
       "      <td>boston</td>\n",
       "    </tr>\n",
       "  </tbody>\n",
       "</table>\n",
       "</div>"
      ],
      "text/plain": [
       "           lat           lng dir    city\n",
       "0  42.29923127  -71.07993968   0  boston\n",
       "1  42.29923127  -71.07993968   1  boston\n",
       "2  42.29923127  -71.07993968   2  boston\n",
       "3  42.29923127  -71.07993968   3  boston\n",
       "4  42.29999973  -71.08272406   0  boston"
      ]
     },
     "execution_count": 4,
     "metadata": {},
     "output_type": "execute_result"
    }
   ],
   "source": [
    "df.head()"
   ]
  },
  {
   "cell_type": "markdown",
   "metadata": {},
   "source": [
    "# merge labels"
   ]
  },
  {
   "cell_type": "code",
   "execution_count": 9,
   "metadata": {
    "collapsed": false
   },
   "outputs": [
    {
     "data": {
      "text/html": [
       "<div>\n",
       "<table border=\"1\" class=\"dataframe\">\n",
       "  <thead>\n",
       "    <tr style=\"text-align: right;\">\n",
       "      <th></th>\n",
       "      <th>lat</th>\n",
       "      <th>lng</th>\n",
       "      <th>dir</th>\n",
       "      <th>city</th>\n",
       "      <th>label</th>\n",
       "      <th>filename</th>\n",
       "    </tr>\n",
       "  </thead>\n",
       "  <tbody>\n",
       "    <tr>\n",
       "      <th>0</th>\n",
       "      <td>42.29923127</td>\n",
       "      <td>-71.07993968</td>\n",
       "      <td>0</td>\n",
       "      <td>boston</td>\n",
       "      <td>Dorchester</td>\n",
       "      <td>boston/42.29923127,-71.07993968_0.png</td>\n",
       "    </tr>\n",
       "    <tr>\n",
       "      <th>1</th>\n",
       "      <td>42.29923127</td>\n",
       "      <td>-71.07993968</td>\n",
       "      <td>1</td>\n",
       "      <td>boston</td>\n",
       "      <td>Dorchester</td>\n",
       "      <td>boston/42.29923127,-71.07993968_1.png</td>\n",
       "    </tr>\n",
       "    <tr>\n",
       "      <th>2</th>\n",
       "      <td>42.29923127</td>\n",
       "      <td>-71.07993968</td>\n",
       "      <td>2</td>\n",
       "      <td>boston</td>\n",
       "      <td>Dorchester</td>\n",
       "      <td>boston/42.29923127,-71.07993968_2.png</td>\n",
       "    </tr>\n",
       "    <tr>\n",
       "      <th>3</th>\n",
       "      <td>42.29923127</td>\n",
       "      <td>-71.07993968</td>\n",
       "      <td>3</td>\n",
       "      <td>boston</td>\n",
       "      <td>Dorchester</td>\n",
       "      <td>boston/42.29923127,-71.07993968_3.png</td>\n",
       "    </tr>\n",
       "    <tr>\n",
       "      <th>4</th>\n",
       "      <td>42.29999973</td>\n",
       "      <td>-71.08272406</td>\n",
       "      <td>0</td>\n",
       "      <td>boston</td>\n",
       "      <td>Dorchester</td>\n",
       "      <td>boston/42.29999973,-71.08272406_0.png</td>\n",
       "    </tr>\n",
       "  </tbody>\n",
       "</table>\n",
       "</div>"
      ],
      "text/plain": [
       "           lat           lng dir    city       label  \\\n",
       "0  42.29923127  -71.07993968   0  boston  Dorchester   \n",
       "1  42.29923127  -71.07993968   1  boston  Dorchester   \n",
       "2  42.29923127  -71.07993968   2  boston  Dorchester   \n",
       "3  42.29923127  -71.07993968   3  boston  Dorchester   \n",
       "4  42.29999973  -71.08272406   0  boston  Dorchester   \n",
       "\n",
       "                                filename  \n",
       "0  boston/42.29923127,-71.07993968_0.png  \n",
       "1  boston/42.29923127,-71.07993968_1.png  \n",
       "2  boston/42.29923127,-71.07993968_2.png  \n",
       "3  boston/42.29923127,-71.07993968_3.png  \n",
       "4  boston/42.29999973,-71.08272406_0.png  "
      ]
     },
     "execution_count": 9,
     "metadata": {},
     "output_type": "execute_result"
    }
   ],
   "source": [
    "labelsdf = pd.read_csv(dataroot+'coordinates_for_request.csv').astype(str)\n",
    "b = pd.merge(df, labelsdf[['lat','lng','label']], on=['lat','lng'])\n",
    "b['filename'] = b.apply(lambda x: x['city']+'/'+x['lat']+','+x['lng']+'_'+x['dir']+'.png', axis=1)\n",
    "b.head()"
   ]
  },
  {
   "cell_type": "code",
   "execution_count": 12,
   "metadata": {
    "collapsed": false
   },
   "outputs": [],
   "source": [
    "b.to_csv(dataroot+'bos_dense_labels.csv')"
   ]
  },
  {
   "cell_type": "markdown",
   "metadata": {},
   "source": [
    "#### number of classes"
   ]
  },
  {
   "cell_type": "code",
   "execution_count": 13,
   "metadata": {
    "collapsed": false
   },
   "outputs": [
    {
     "data": {
      "text/plain": [
       "40"
      ]
     },
     "execution_count": 13,
     "metadata": {},
     "output_type": "execute_result"
    }
   ],
   "source": [
    "len(b['label'].unique())"
   ]
  },
  {
   "cell_type": "markdown",
   "metadata": {},
   "source": [
    "### below are trials to get coors"
   ]
  },
  {
   "cell_type": "code",
   "execution_count": 12,
   "metadata": {
    "collapsed": false
   },
   "outputs": [
    {
     "data": {
      "text/plain": [
       "['35.638226', '139.771862328', '2']"
      ]
     },
     "execution_count": 12,
     "metadata": {},
     "output_type": "execute_result"
    }
   ],
   "source": [
    "imgnames[578].replace('_',',').split(',')"
   ]
  },
  {
   "cell_type": "code",
   "execution_count": 17,
   "metadata": {
    "collapsed": false
   },
   "outputs": [
    {
     "data": {
      "text/plain": [
       "array([['35.630726', '139.747854768', '0'],\n",
       "       ['35.630726', '139.747854768', '1'],\n",
       "       ['35.630726', '139.747854768', '2'],\n",
       "       ..., \n",
       "       ['35.737226', '139.766322122', '1'],\n",
       "       ['35.737226', '139.766322122', '2'],\n",
       "       ['35.737226', '139.766322122', '3']], \n",
       "      dtype='|S13')"
      ]
     },
     "execution_count": 17,
     "metadata": {},
     "output_type": "execute_result"
    }
   ],
   "source": [
    "lat_lng_dir = np.array([name.replace('_',',').split(',') for name in imgnames])\n",
    "lat_lng_dir"
   ]
  },
  {
   "cell_type": "code",
   "execution_count": 21,
   "metadata": {
    "collapsed": false
   },
   "outputs": [
    {
     "data": {
      "text/html": [
       "<div>\n",
       "<table border=\"1\" class=\"dataframe\">\n",
       "  <thead>\n",
       "    <tr style=\"text-align: right;\">\n",
       "      <th></th>\n",
       "      <th>lat</th>\n",
       "      <th>lng</th>\n",
       "      <th>dir</th>\n",
       "      <th>city</th>\n",
       "    </tr>\n",
       "  </thead>\n",
       "  <tbody>\n",
       "    <tr>\n",
       "      <th>0</th>\n",
       "      <td>35.630726</td>\n",
       "      <td>139.747854768</td>\n",
       "      <td>0</td>\n",
       "      <td>boston</td>\n",
       "    </tr>\n",
       "    <tr>\n",
       "      <th>1</th>\n",
       "      <td>35.630726</td>\n",
       "      <td>139.747854768</td>\n",
       "      <td>1</td>\n",
       "      <td>boston</td>\n",
       "    </tr>\n",
       "    <tr>\n",
       "      <th>2</th>\n",
       "      <td>35.630726</td>\n",
       "      <td>139.747854768</td>\n",
       "      <td>2</td>\n",
       "      <td>boston</td>\n",
       "    </tr>\n",
       "    <tr>\n",
       "      <th>3</th>\n",
       "      <td>35.630726</td>\n",
       "      <td>139.747854768</td>\n",
       "      <td>3</td>\n",
       "      <td>boston</td>\n",
       "    </tr>\n",
       "    <tr>\n",
       "      <th>4</th>\n",
       "      <td>35.630726</td>\n",
       "      <td>139.749701504</td>\n",
       "      <td>0</td>\n",
       "      <td>boston</td>\n",
       "    </tr>\n",
       "  </tbody>\n",
       "</table>\n",
       "</div>"
      ],
      "text/plain": [
       "         lat            lng dir    city\n",
       "0  35.630726  139.747854768   0  boston\n",
       "1  35.630726  139.747854768   1  boston\n",
       "2  35.630726  139.747854768   2  boston\n",
       "3  35.630726  139.747854768   3  boston\n",
       "4  35.630726  139.749701504   0  boston"
      ]
     },
     "execution_count": 21,
     "metadata": {},
     "output_type": "execute_result"
    }
   ],
   "source": [
    "df = pd.DataFrame(lat_lng_dir, columns=['lat', 'lng', 'dir'])\n",
    "df['city'] = 'boston'\n",
    "df.head()"
   ]
  },
  {
   "cell_type": "code",
   "execution_count": 20,
   "metadata": {
    "collapsed": true
   },
   "outputs": [],
   "source": [
    "df.to_csv('C:/Users/lezhi/Dropbox/thesis/'+'cityname'+'.csv')"
   ]
  }
 ],
 "metadata": {
  "kernelspec": {
   "display_name": "Python 2",
   "language": "python",
   "name": "python2"
  },
  "language_info": {
   "codemirror_mode": {
    "name": "ipython",
    "version": 2
   },
   "file_extension": ".py",
   "mimetype": "text/x-python",
   "name": "python",
   "nbconvert_exporter": "python",
   "pygments_lexer": "ipython2",
   "version": "2.7.11"
  }
 },
 "nbformat": 4,
 "nbformat_minor": 0
}
