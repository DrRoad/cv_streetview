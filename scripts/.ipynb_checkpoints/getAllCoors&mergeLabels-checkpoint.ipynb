{
 "cells": [
  {
   "cell_type": "markdown",
   "metadata": {},
   "source": [
    "# get coors"
   ]
  },
  {
   "cell_type": "code",
   "execution_count": 38,
   "metadata": {
    "collapsed": true
   },
   "outputs": [],
   "source": [
    "import os\n",
    "import pandas as pd\n",
    "import numpy as np\n",
    "dataroot = 'C:/Users/lezhi/Dropbox/thesis/data/'\n",
    "rootdir = 'C:/Users/lezhi/Dropbox/thesis/img_dense/'"
   ]
  },
  {
   "cell_type": "code",
   "execution_count": 39,
   "metadata": {
    "collapsed": false
   },
   "outputs": [],
   "source": [
    "df = pd.DataFrame()\n",
    "\n",
    "citynames = sorted([d for d in os.listdir(rootdir) if os.path.isdir(rootdir)])\n",
    "for cityname in citynames[1:2]:    ############################################# only testing 3 cities now\n",
    "    citypath = os.path.join(rootdir, cityname)\n",
    "    imgnames = sorted([f[:-4] for f in os.listdir(citypath) if os.path.isfile(os.path.join(citypath, f))])\n",
    "\n",
    "    lat_lng_dir = np.array([name.replace('_',',').split(',') for name in imgnames])\n",
    "\n",
    "    df1 = pd.DataFrame(lat_lng_dir, columns=['lat', 'lng', 'dir'])\n",
    "    df1['city'] = cityname\n",
    "    df = df.append(df1, ignore_index=True)\n",
    "\n",
    "df.to_csv(dataroot+'coor_dense_newyork'+'.csv')        "
   ]
  },
  {
   "cell_type": "code",
   "execution_count": 40,
   "metadata": {
    "collapsed": false
   },
   "outputs": [
    {
     "data": {
      "text/html": [
       "<div>\n",
       "<table border=\"1\" class=\"dataframe\">\n",
       "  <thead>\n",
       "    <tr style=\"text-align: right;\">\n",
       "      <th></th>\n",
       "      <th>lat</th>\n",
       "      <th>lng</th>\n",
       "      <th>dir</th>\n",
       "      <th>city</th>\n",
       "    </tr>\n",
       "  </thead>\n",
       "  <tbody>\n",
       "    <tr>\n",
       "      <th>0</th>\n",
       "      <td>40.68506968</td>\n",
       "      <td>-73.9612494</td>\n",
       "      <td>0</td>\n",
       "      <td>newyork</td>\n",
       "    </tr>\n",
       "    <tr>\n",
       "      <th>1</th>\n",
       "      <td>40.68506968</td>\n",
       "      <td>-73.9612494</td>\n",
       "      <td>1</td>\n",
       "      <td>newyork</td>\n",
       "    </tr>\n",
       "    <tr>\n",
       "      <th>2</th>\n",
       "      <td>40.68506968</td>\n",
       "      <td>-73.9612494</td>\n",
       "      <td>2</td>\n",
       "      <td>newyork</td>\n",
       "    </tr>\n",
       "    <tr>\n",
       "      <th>3</th>\n",
       "      <td>40.68506968</td>\n",
       "      <td>-73.9612494</td>\n",
       "      <td>3</td>\n",
       "      <td>newyork</td>\n",
       "    </tr>\n",
       "    <tr>\n",
       "      <th>4</th>\n",
       "      <td>40.68511284</td>\n",
       "      <td>-73.97047684</td>\n",
       "      <td>0</td>\n",
       "      <td>newyork</td>\n",
       "    </tr>\n",
       "  </tbody>\n",
       "</table>\n",
       "</div>"
      ],
      "text/plain": [
       "           lat           lng dir     city\n",
       "0  40.68506968   -73.9612494   0  newyork\n",
       "1  40.68506968   -73.9612494   1  newyork\n",
       "2  40.68506968   -73.9612494   2  newyork\n",
       "3  40.68506968   -73.9612494   3  newyork\n",
       "4  40.68511284  -73.97047684   0  newyork"
      ]
     },
     "execution_count": 40,
     "metadata": {},
     "output_type": "execute_result"
    }
   ],
   "source": [
    "df.head()"
   ]
  },
  {
   "cell_type": "markdown",
   "metadata": {},
   "source": [
    "# calculate whether request is incomplete"
   ]
  },
  {
   "cell_type": "code",
   "execution_count": 45,
   "metadata": {
    "collapsed": false
   },
   "outputs": [],
   "source": [
    "a = df.drop_duplicates(['lat','lng'])\n",
    "b = pd.read_csv(dataroot+'request_newyork.csv').astype(str)"
   ]
  },
  {
   "cell_type": "code",
   "execution_count": 41,
   "metadata": {
    "collapsed": false
   },
   "outputs": [],
   "source": [
    "c = pd.merge(b, a, how='left', on=['lat','lng'])\n",
    "c[pd.isnull(c['city'])].loc[9000:]"
   ]
  },
  {
   "cell_type": "markdown",
   "metadata": {},
   "source": [
    "# merge labels"
   ]
  },
  {
   "cell_type": "code",
   "execution_count": 46,
   "metadata": {
    "collapsed": false
   },
   "outputs": [
    {
     "data": {
      "text/html": [
       "<div>\n",
       "<table border=\"1\" class=\"dataframe\">\n",
       "  <thead>\n",
       "    <tr style=\"text-align: right;\">\n",
       "      <th></th>\n",
       "      <th>lat</th>\n",
       "      <th>lng</th>\n",
       "      <th>dir</th>\n",
       "      <th>city</th>\n",
       "      <th>label</th>\n",
       "      <th>filename</th>\n",
       "    </tr>\n",
       "  </thead>\n",
       "  <tbody>\n",
       "    <tr>\n",
       "      <th>0</th>\n",
       "      <td>40.68506968</td>\n",
       "      <td>-73.9612494</td>\n",
       "      <td>0</td>\n",
       "      <td>newyork</td>\n",
       "      <td>Fort Green</td>\n",
       "      <td>newyork/40.68506968,-73.9612494_0.png</td>\n",
       "    </tr>\n",
       "    <tr>\n",
       "      <th>1</th>\n",
       "      <td>40.68506968</td>\n",
       "      <td>-73.9612494</td>\n",
       "      <td>1</td>\n",
       "      <td>newyork</td>\n",
       "      <td>Fort Green</td>\n",
       "      <td>newyork/40.68506968,-73.9612494_1.png</td>\n",
       "    </tr>\n",
       "    <tr>\n",
       "      <th>2</th>\n",
       "      <td>40.68506968</td>\n",
       "      <td>-73.9612494</td>\n",
       "      <td>2</td>\n",
       "      <td>newyork</td>\n",
       "      <td>Fort Green</td>\n",
       "      <td>newyork/40.68506968,-73.9612494_2.png</td>\n",
       "    </tr>\n",
       "    <tr>\n",
       "      <th>3</th>\n",
       "      <td>40.68506968</td>\n",
       "      <td>-73.9612494</td>\n",
       "      <td>3</td>\n",
       "      <td>newyork</td>\n",
       "      <td>Fort Green</td>\n",
       "      <td>newyork/40.68506968,-73.9612494_3.png</td>\n",
       "    </tr>\n",
       "    <tr>\n",
       "      <th>4</th>\n",
       "      <td>40.68511284</td>\n",
       "      <td>-73.97047684</td>\n",
       "      <td>0</td>\n",
       "      <td>newyork</td>\n",
       "      <td>Fort Green</td>\n",
       "      <td>newyork/40.68511284,-73.97047684_0.png</td>\n",
       "    </tr>\n",
       "  </tbody>\n",
       "</table>\n",
       "</div>"
      ],
      "text/plain": [
       "           lat           lng dir     city       label  \\\n",
       "0  40.68506968   -73.9612494   0  newyork  Fort Green   \n",
       "1  40.68506968   -73.9612494   1  newyork  Fort Green   \n",
       "2  40.68506968   -73.9612494   2  newyork  Fort Green   \n",
       "3  40.68506968   -73.9612494   3  newyork  Fort Green   \n",
       "4  40.68511284  -73.97047684   0  newyork  Fort Green   \n",
       "\n",
       "                                 filename  \n",
       "0   newyork/40.68506968,-73.9612494_0.png  \n",
       "1   newyork/40.68506968,-73.9612494_1.png  \n",
       "2   newyork/40.68506968,-73.9612494_2.png  \n",
       "3   newyork/40.68506968,-73.9612494_3.png  \n",
       "4  newyork/40.68511284,-73.97047684_0.png  "
      ]
     },
     "execution_count": 46,
     "metadata": {},
     "output_type": "execute_result"
    }
   ],
   "source": [
    "labelsdf = pd.read_csv(dataroot+'request_newyork.csv').astype(str)\n",
    "b = pd.merge(df, labelsdf[['lat','lng','label']], on=['lat','lng'])\n",
    "b['filename'] = b.apply(lambda x: x['city']+'/'+x['lat']+','+x['lng']+'_'+x['dir']+'.png', axis=1)\n",
    "b.head()"
   ]
  },
  {
   "cell_type": "code",
   "execution_count": 48,
   "metadata": {
    "collapsed": false
   },
   "outputs": [],
   "source": [
    "b.to_csv(dataroot+'labels_dense_newyork.csv')"
   ]
  },
  {
   "cell_type": "markdown",
   "metadata": {},
   "source": [
    "### remove very small classes"
   ]
  },
  {
   "cell_type": "markdown",
   "metadata": {},
   "source": [
    "#### number of image in each class"
   ]
  },
  {
   "cell_type": "code",
   "execution_count": 49,
   "metadata": {
    "collapsed": false
   },
   "outputs": [
    {
     "data": {
      "text/plain": [
       "label\n",
       "Astoria-Long Island City    900\n",
       "Battery Park                796\n",
       "Bedford-Stuyvesant          916\n",
       "Boerum Hill                 862\n",
       "Bushwick                    996\n",
       "Carnegie Hill               880\n",
       "Central Park                884\n",
       "Chelsea                     743\n",
       "Chinatown                   902\n",
       "Clinton                     812\n",
       "Downtown                    899\n",
       "East Harlem                 919\n",
       "East Village                762\n",
       "Financial District          820\n",
       "Fort Green                  892\n",
       "Garment District            778\n",
       "Gramercy                    785\n",
       "Greenwich Village           787\n",
       "Harlem                      960\n",
       "Jackson Heights             970\n",
       "Little Italy                758\n",
       "Lower East Side             796\n",
       "Maspeth                     744\n",
       "Midtown                     793\n",
       "Morningside Heights         831\n",
       "Murray Hill                 824\n",
       "North Sutton Area           808\n",
       "Ridgewood                   884\n",
       "Soho                        806\n",
       "Steinway                     12\n",
       "Sunny Side                  763\n",
       "The Heights                 916\n",
       "The Waterfront              623\n",
       "Tribeca                     819\n",
       "Upper East Side             900\n",
       "Upper West Side             848\n",
       "West Village                852\n",
       "Williamsburg                765\n",
       "Woodside                    802\n",
       "Yorkville                   928\n",
       "dtype: int64"
      ]
     },
     "execution_count": 49,
     "metadata": {},
     "output_type": "execute_result"
    }
   ],
   "source": [
    "b.groupby('label').size()"
   ]
  },
  {
   "cell_type": "code",
   "execution_count": 56,
   "metadata": {
    "collapsed": false
   },
   "outputs": [],
   "source": [
    "b_filtered = b[map(lambda ele: (ele!='Steinway'), b['label'])]"
   ]
  },
  {
   "cell_type": "code",
   "execution_count": 57,
   "metadata": {
    "collapsed": false
   },
   "outputs": [],
   "source": [
    "b_filtered = b_filtered.reset_index()\n",
    "del b_filtered['index']\n",
    "b_filtered.to_csv(dataroot+'labels_dense_singapore.csv')"
   ]
  },
  {
   "cell_type": "markdown",
   "metadata": {},
   "source": [
    "#### number of classes"
   ]
  },
  {
   "cell_type": "code",
   "execution_count": 58,
   "metadata": {
    "collapsed": false
   },
   "outputs": [
    {
     "data": {
      "text/plain": [
       "39"
      ]
     },
     "execution_count": 58,
     "metadata": {},
     "output_type": "execute_result"
    }
   ],
   "source": [
    "len(b_filtered['label'].unique())"
   ]
  },
  {
   "cell_type": "markdown",
   "metadata": {},
   "source": [
    "### below are trials to get coors"
   ]
  },
  {
   "cell_type": "code",
   "execution_count": 12,
   "metadata": {
    "collapsed": false
   },
   "outputs": [
    {
     "data": {
      "text/plain": [
       "['35.638226', '139.771862328', '2']"
      ]
     },
     "execution_count": 12,
     "metadata": {},
     "output_type": "execute_result"
    }
   ],
   "source": [
    "imgnames[578].replace('_',',').split(',')"
   ]
  },
  {
   "cell_type": "code",
   "execution_count": 17,
   "metadata": {
    "collapsed": false
   },
   "outputs": [
    {
     "data": {
      "text/plain": [
       "array([['35.630726', '139.747854768', '0'],\n",
       "       ['35.630726', '139.747854768', '1'],\n",
       "       ['35.630726', '139.747854768', '2'],\n",
       "       ..., \n",
       "       ['35.737226', '139.766322122', '1'],\n",
       "       ['35.737226', '139.766322122', '2'],\n",
       "       ['35.737226', '139.766322122', '3']], \n",
       "      dtype='|S13')"
      ]
     },
     "execution_count": 17,
     "metadata": {},
     "output_type": "execute_result"
    }
   ],
   "source": [
    "lat_lng_dir = np.array([name.replace('_',',').split(',') for name in imgnames])\n",
    "lat_lng_dir"
   ]
  },
  {
   "cell_type": "code",
   "execution_count": 21,
   "metadata": {
    "collapsed": false
   },
   "outputs": [
    {
     "data": {
      "text/html": [
       "<div>\n",
       "<table border=\"1\" class=\"dataframe\">\n",
       "  <thead>\n",
       "    <tr style=\"text-align: right;\">\n",
       "      <th></th>\n",
       "      <th>lat</th>\n",
       "      <th>lng</th>\n",
       "      <th>dir</th>\n",
       "      <th>city</th>\n",
       "    </tr>\n",
       "  </thead>\n",
       "  <tbody>\n",
       "    <tr>\n",
       "      <th>0</th>\n",
       "      <td>35.630726</td>\n",
       "      <td>139.747854768</td>\n",
       "      <td>0</td>\n",
       "      <td>boston</td>\n",
       "    </tr>\n",
       "    <tr>\n",
       "      <th>1</th>\n",
       "      <td>35.630726</td>\n",
       "      <td>139.747854768</td>\n",
       "      <td>1</td>\n",
       "      <td>boston</td>\n",
       "    </tr>\n",
       "    <tr>\n",
       "      <th>2</th>\n",
       "      <td>35.630726</td>\n",
       "      <td>139.747854768</td>\n",
       "      <td>2</td>\n",
       "      <td>boston</td>\n",
       "    </tr>\n",
       "    <tr>\n",
       "      <th>3</th>\n",
       "      <td>35.630726</td>\n",
       "      <td>139.747854768</td>\n",
       "      <td>3</td>\n",
       "      <td>boston</td>\n",
       "    </tr>\n",
       "    <tr>\n",
       "      <th>4</th>\n",
       "      <td>35.630726</td>\n",
       "      <td>139.749701504</td>\n",
       "      <td>0</td>\n",
       "      <td>boston</td>\n",
       "    </tr>\n",
       "  </tbody>\n",
       "</table>\n",
       "</div>"
      ],
      "text/plain": [
       "         lat            lng dir    city\n",
       "0  35.630726  139.747854768   0  boston\n",
       "1  35.630726  139.747854768   1  boston\n",
       "2  35.630726  139.747854768   2  boston\n",
       "3  35.630726  139.747854768   3  boston\n",
       "4  35.630726  139.749701504   0  boston"
      ]
     },
     "execution_count": 21,
     "metadata": {},
     "output_type": "execute_result"
    }
   ],
   "source": [
    "df = pd.DataFrame(lat_lng_dir, columns=['lat', 'lng', 'dir'])\n",
    "df['city'] = 'boston'\n",
    "df.head()"
   ]
  },
  {
   "cell_type": "code",
   "execution_count": 20,
   "metadata": {
    "collapsed": true
   },
   "outputs": [],
   "source": [
    "df.to_csv('C:/Users/lezhi/Dropbox/thesis/'+'cityname'+'.csv')"
   ]
  }
 ],
 "metadata": {
  "kernelspec": {
   "display_name": "Python 2",
   "language": "python",
   "name": "python2"
  },
  "language_info": {
   "codemirror_mode": {
    "name": "ipython",
    "version": 2
   },
   "file_extension": ".py",
   "mimetype": "text/x-python",
   "name": "python",
   "nbconvert_exporter": "python",
   "pygments_lexer": "ipython2",
   "version": "2.7.11"
  }
 },
 "nbformat": 4,
 "nbformat_minor": 0
}
