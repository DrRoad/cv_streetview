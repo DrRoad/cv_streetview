{
 "cells": [
  {
   "cell_type": "code",
   "execution_count": 1,
   "metadata": {
    "collapsed": true
   },
   "outputs": [],
   "source": [
    "import numpy as np\n",
    "import matplotlib.pyplot as plt\n",
    "import pandas as pd\n",
    "%matplotlib inline\n",
    "from sklearn import cluster, datasets\n",
    "from sklearn.cluster import DBSCAN\n",
    "from sklearn.neighbors import kneighbors_graph\n",
    "from sklearn.preprocessing import StandardScaler\n",
    "\n",
    "# imgroot = '/media/senseable-beast/beast-brain-1/Data/streetviewdata/img/'\n",
    "imgroot = 'C:/Users/lezhi/Dropbox/thesis/img/'\n",
    "dataroot = 'C:/Users/lezhi/Dropbox/thesis/data/'"
   ]
  },
  {
   "cell_type": "markdown",
   "metadata": {},
   "source": [
    "# spectral clustering w/ image feature matrix (Image level)"
   ]
  },
  {
   "cell_type": "code",
   "execution_count": 8,
   "metadata": {
    "collapsed": false
   },
   "outputs": [
    {
     "data": {
      "text/html": [
       "<div>\n",
       "<table border=\"1\" class=\"dataframe\">\n",
       "  <thead>\n",
       "    <tr style=\"text-align: right;\">\n",
       "      <th></th>\n",
       "      <th>0</th>\n",
       "      <th>1</th>\n",
       "      <th>2</th>\n",
       "      <th>3</th>\n",
       "      <th>4</th>\n",
       "      <th>5</th>\n",
       "      <th>6</th>\n",
       "      <th>7</th>\n",
       "      <th>8</th>\n",
       "      <th>9</th>\n",
       "      <th>...</th>\n",
       "      <th>4086</th>\n",
       "      <th>4087</th>\n",
       "      <th>4088</th>\n",
       "      <th>4089</th>\n",
       "      <th>4090</th>\n",
       "      <th>4091</th>\n",
       "      <th>4092</th>\n",
       "      <th>4093</th>\n",
       "      <th>4094</th>\n",
       "      <th>4095</th>\n",
       "    </tr>\n",
       "  </thead>\n",
       "  <tbody>\n",
       "    <tr>\n",
       "      <th>0</th>\n",
       "      <td>2.0897</td>\n",
       "      <td>0</td>\n",
       "      <td>0</td>\n",
       "      <td>0</td>\n",
       "      <td>0</td>\n",
       "      <td>0.54691</td>\n",
       "      <td>0</td>\n",
       "      <td>0</td>\n",
       "      <td>0.00000</td>\n",
       "      <td>1.338</td>\n",
       "      <td>...</td>\n",
       "      <td>0.47297</td>\n",
       "      <td>0.0000</td>\n",
       "      <td>0</td>\n",
       "      <td>0</td>\n",
       "      <td>0.0000</td>\n",
       "      <td>0.0000</td>\n",
       "      <td>0</td>\n",
       "      <td>0</td>\n",
       "      <td>0.000000</td>\n",
       "      <td>0</td>\n",
       "    </tr>\n",
       "    <tr>\n",
       "      <th>1</th>\n",
       "      <td>0.0000</td>\n",
       "      <td>0</td>\n",
       "      <td>0</td>\n",
       "      <td>0</td>\n",
       "      <td>0</td>\n",
       "      <td>0.00000</td>\n",
       "      <td>0</td>\n",
       "      <td>0</td>\n",
       "      <td>0.00000</td>\n",
       "      <td>0.000</td>\n",
       "      <td>...</td>\n",
       "      <td>0.22579</td>\n",
       "      <td>0.0000</td>\n",
       "      <td>0</td>\n",
       "      <td>0</td>\n",
       "      <td>0.0000</td>\n",
       "      <td>0.0000</td>\n",
       "      <td>0</td>\n",
       "      <td>0</td>\n",
       "      <td>0.000000</td>\n",
       "      <td>0</td>\n",
       "    </tr>\n",
       "    <tr>\n",
       "      <th>2</th>\n",
       "      <td>1.1076</td>\n",
       "      <td>0</td>\n",
       "      <td>0</td>\n",
       "      <td>0</td>\n",
       "      <td>0</td>\n",
       "      <td>0.00000</td>\n",
       "      <td>0</td>\n",
       "      <td>0</td>\n",
       "      <td>0.97727</td>\n",
       "      <td>0.000</td>\n",
       "      <td>...</td>\n",
       "      <td>0.00000</td>\n",
       "      <td>0.0000</td>\n",
       "      <td>0</td>\n",
       "      <td>0</td>\n",
       "      <td>0.0000</td>\n",
       "      <td>0.0000</td>\n",
       "      <td>0</td>\n",
       "      <td>0</td>\n",
       "      <td>0.000000</td>\n",
       "      <td>0</td>\n",
       "    </tr>\n",
       "    <tr>\n",
       "      <th>3</th>\n",
       "      <td>0.0000</td>\n",
       "      <td>0</td>\n",
       "      <td>0</td>\n",
       "      <td>0</td>\n",
       "      <td>0</td>\n",
       "      <td>0.00000</td>\n",
       "      <td>0</td>\n",
       "      <td>0</td>\n",
       "      <td>0.21260</td>\n",
       "      <td>0.000</td>\n",
       "      <td>...</td>\n",
       "      <td>1.05530</td>\n",
       "      <td>1.1426</td>\n",
       "      <td>0</td>\n",
       "      <td>0</td>\n",
       "      <td>2.9811</td>\n",
       "      <td>1.0855</td>\n",
       "      <td>0</td>\n",
       "      <td>0</td>\n",
       "      <td>0.001122</td>\n",
       "      <td>0</td>\n",
       "    </tr>\n",
       "    <tr>\n",
       "      <th>4</th>\n",
       "      <td>0.0000</td>\n",
       "      <td>0</td>\n",
       "      <td>0</td>\n",
       "      <td>0</td>\n",
       "      <td>0</td>\n",
       "      <td>0.00000</td>\n",
       "      <td>0</td>\n",
       "      <td>0</td>\n",
       "      <td>0.00000</td>\n",
       "      <td>0.000</td>\n",
       "      <td>...</td>\n",
       "      <td>0.49824</td>\n",
       "      <td>0.0000</td>\n",
       "      <td>0</td>\n",
       "      <td>0</td>\n",
       "      <td>0.0000</td>\n",
       "      <td>1.0555</td>\n",
       "      <td>0</td>\n",
       "      <td>0</td>\n",
       "      <td>0.000000</td>\n",
       "      <td>0</td>\n",
       "    </tr>\n",
       "  </tbody>\n",
       "</table>\n",
       "<p>5 rows × 4096 columns</p>\n",
       "</div>"
      ],
      "text/plain": [
       "        0  1  2  3  4        5  6  7        8      9  ...      4086    4087  \\\n",
       "0  2.0897  0  0  0  0  0.54691  0  0  0.00000  1.338  ...   0.47297  0.0000   \n",
       "1  0.0000  0  0  0  0  0.00000  0  0  0.00000  0.000  ...   0.22579  0.0000   \n",
       "2  1.1076  0  0  0  0  0.00000  0  0  0.97727  0.000  ...   0.00000  0.0000   \n",
       "3  0.0000  0  0  0  0  0.00000  0  0  0.21260  0.000  ...   1.05530  1.1426   \n",
       "4  0.0000  0  0  0  0  0.00000  0  0  0.00000  0.000  ...   0.49824  0.0000   \n",
       "\n",
       "   4088  4089    4090    4091  4092  4093      4094  4095  \n",
       "0     0     0  0.0000  0.0000     0     0  0.000000     0  \n",
       "1     0     0  0.0000  0.0000     0     0  0.000000     0  \n",
       "2     0     0  0.0000  0.0000     0     0  0.000000     0  \n",
       "3     0     0  2.9811  1.0855     0     0  0.001122     0  \n",
       "4     0     0  0.0000  1.0555     0     0  0.000000     0  \n",
       "\n",
       "[5 rows x 4096 columns]"
      ]
     },
     "execution_count": 8,
     "metadata": {},
     "output_type": "execute_result"
    }
   ],
   "source": [
    "df = pd.read_csv(dataroot+'deep_features_boston.csv')\n",
    "df.head()"
   ]
  },
  {
   "cell_type": "markdown",
   "metadata": {},
   "source": [
    "#### DBSCAN doesn't seem working"
   ]
  },
  {
   "cell_type": "code",
   "execution_count": 15,
   "metadata": {
    "collapsed": false
   },
   "outputs": [
    {
     "data": {
      "text/plain": [
       "array([-1, -1, -1, ..., -1, -1, -1], dtype=int64)"
      ]
     },
     "execution_count": 15,
     "metadata": {},
     "output_type": "execute_result"
    }
   ],
   "source": [
    "X = df\n",
    "dbscan = DBSCAN(eps=0.8, min_samples=10, metric='euclidean')\n",
    "dbscan.fit_predict(X)\n",
    "#print(pca.explained_variance_ratio_) \n",
    "#print(dbscan.components_)"
   ]
  },
  {
   "cell_type": "code",
   "execution_count": 14,
   "metadata": {
    "collapsed": false
   },
   "outputs": [
    {
     "name": "stdout",
     "output_type": "stream",
     "text": [
      "(5638L,)\n"
     ]
    }
   ],
   "source": [
    "print(dbscan.labels_)"
   ]
  },
  {
   "cell_type": "markdown",
   "metadata": {},
   "source": [
    "#### Spectural Clustering seems to work"
   ]
  },
  {
   "cell_type": "code",
   "execution_count": 27,
   "metadata": {
    "collapsed": false
   },
   "outputs": [
    {
     "data": {
      "text/plain": [
       "array([1, 0, 0, ..., 0, 0, 1])"
      ]
     },
     "execution_count": 27,
     "metadata": {},
     "output_type": "execute_result"
    }
   ],
   "source": [
    "num_cat = 2\n",
    "spectral = cluster.SpectralClustering(n_clusters=num_cat,\n",
    "                                      eigen_solver='arpack',\n",
    "                                      affinity=\"rbf\")\n",
    "y_pred = spectral.fit_predict(X)\n",
    "y_pred"
   ]
  },
  {
   "cell_type": "code",
   "execution_count": 37,
   "metadata": {
    "collapsed": false
   },
   "outputs": [],
   "source": [
    "y_preds = pd.DataFrame()\n",
    "for num_cat in range(2,21):\n",
    "    print num_cat\n",
    "    spectral = cluster.SpectralClustering(n_clusters=num_cat,\n",
    "                                      eigen_solver='arpack',\n",
    "                                      affinity=\"rbf\")\n",
    "    y_pred = spectral.fit_predict(X)\n",
    "    y_preds['cat_from_'+str(num_cat)] = y_pred"
   ]
  },
  {
   "cell_type": "code",
   "execution_count": 38,
   "metadata": {
    "collapsed": false
   },
   "outputs": [
    {
     "data": {
      "text/html": [
       "<div>\n",
       "<table border=\"1\" class=\"dataframe\">\n",
       "  <thead>\n",
       "    <tr style=\"text-align: right;\">\n",
       "      <th></th>\n",
       "      <th>cat_from_2</th>\n",
       "      <th>cat_from_3</th>\n",
       "      <th>cat_from_4</th>\n",
       "      <th>cat_from_5</th>\n",
       "      <th>cat_from_6</th>\n",
       "      <th>cat_from_7</th>\n",
       "      <th>cat_from_8</th>\n",
       "      <th>cat_from_9</th>\n",
       "      <th>cat_from_10</th>\n",
       "      <th>cat_from_11</th>\n",
       "      <th>cat_from_12</th>\n",
       "      <th>cat_from_13</th>\n",
       "      <th>cat_from_14</th>\n",
       "      <th>cat_from_15</th>\n",
       "      <th>cat_from_16</th>\n",
       "      <th>cat_from_17</th>\n",
       "      <th>cat_from_18</th>\n",
       "      <th>cat_from_19</th>\n",
       "      <th>cat_from_20</th>\n",
       "    </tr>\n",
       "  </thead>\n",
       "  <tbody>\n",
       "    <tr>\n",
       "      <th>0</th>\n",
       "      <td>0</td>\n",
       "      <td>1</td>\n",
       "      <td>1</td>\n",
       "      <td>3</td>\n",
       "      <td>0</td>\n",
       "      <td>1</td>\n",
       "      <td>2</td>\n",
       "      <td>1</td>\n",
       "      <td>3</td>\n",
       "      <td>4</td>\n",
       "      <td>1</td>\n",
       "      <td>2</td>\n",
       "      <td>1</td>\n",
       "      <td>0</td>\n",
       "      <td>1</td>\n",
       "      <td>2</td>\n",
       "      <td>2</td>\n",
       "      <td>1</td>\n",
       "      <td>4</td>\n",
       "    </tr>\n",
       "    <tr>\n",
       "      <th>1</th>\n",
       "      <td>0</td>\n",
       "      <td>2</td>\n",
       "      <td>1</td>\n",
       "      <td>3</td>\n",
       "      <td>0</td>\n",
       "      <td>1</td>\n",
       "      <td>2</td>\n",
       "      <td>8</td>\n",
       "      <td>7</td>\n",
       "      <td>1</td>\n",
       "      <td>1</td>\n",
       "      <td>2</td>\n",
       "      <td>1</td>\n",
       "      <td>8</td>\n",
       "      <td>1</td>\n",
       "      <td>10</td>\n",
       "      <td>13</td>\n",
       "      <td>6</td>\n",
       "      <td>0</td>\n",
       "    </tr>\n",
       "    <tr>\n",
       "      <th>2</th>\n",
       "      <td>1</td>\n",
       "      <td>0</td>\n",
       "      <td>1</td>\n",
       "      <td>2</td>\n",
       "      <td>0</td>\n",
       "      <td>4</td>\n",
       "      <td>6</td>\n",
       "      <td>1</td>\n",
       "      <td>7</td>\n",
       "      <td>1</td>\n",
       "      <td>1</td>\n",
       "      <td>2</td>\n",
       "      <td>1</td>\n",
       "      <td>0</td>\n",
       "      <td>1</td>\n",
       "      <td>3</td>\n",
       "      <td>2</td>\n",
       "      <td>1</td>\n",
       "      <td>0</td>\n",
       "    </tr>\n",
       "    <tr>\n",
       "      <th>3</th>\n",
       "      <td>0</td>\n",
       "      <td>0</td>\n",
       "      <td>1</td>\n",
       "      <td>1</td>\n",
       "      <td>0</td>\n",
       "      <td>1</td>\n",
       "      <td>2</td>\n",
       "      <td>1</td>\n",
       "      <td>7</td>\n",
       "      <td>1</td>\n",
       "      <td>1</td>\n",
       "      <td>2</td>\n",
       "      <td>1</td>\n",
       "      <td>12</td>\n",
       "      <td>1</td>\n",
       "      <td>10</td>\n",
       "      <td>2</td>\n",
       "      <td>1</td>\n",
       "      <td>4</td>\n",
       "    </tr>\n",
       "    <tr>\n",
       "      <th>4</th>\n",
       "      <td>1</td>\n",
       "      <td>0</td>\n",
       "      <td>1</td>\n",
       "      <td>3</td>\n",
       "      <td>0</td>\n",
       "      <td>1</td>\n",
       "      <td>3</td>\n",
       "      <td>1</td>\n",
       "      <td>7</td>\n",
       "      <td>1</td>\n",
       "      <td>1</td>\n",
       "      <td>2</td>\n",
       "      <td>4</td>\n",
       "      <td>12</td>\n",
       "      <td>15</td>\n",
       "      <td>3</td>\n",
       "      <td>17</td>\n",
       "      <td>1</td>\n",
       "      <td>4</td>\n",
       "    </tr>\n",
       "  </tbody>\n",
       "</table>\n",
       "</div>"
      ],
      "text/plain": [
       "   cat_from_2  cat_from_3  cat_from_4  cat_from_5  cat_from_6  cat_from_7  \\\n",
       "0           0           1           1           3           0           1   \n",
       "1           0           2           1           3           0           1   \n",
       "2           1           0           1           2           0           4   \n",
       "3           0           0           1           1           0           1   \n",
       "4           1           0           1           3           0           1   \n",
       "\n",
       "   cat_from_8  cat_from_9  cat_from_10  cat_from_11  cat_from_12  cat_from_13  \\\n",
       "0           2           1            3            4            1            2   \n",
       "1           2           8            7            1            1            2   \n",
       "2           6           1            7            1            1            2   \n",
       "3           2           1            7            1            1            2   \n",
       "4           3           1            7            1            1            2   \n",
       "\n",
       "   cat_from_14  cat_from_15  cat_from_16  cat_from_17  cat_from_18  \\\n",
       "0            1            0            1            2            2   \n",
       "1            1            8            1           10           13   \n",
       "2            1            0            1            3            2   \n",
       "3            1           12            1           10            2   \n",
       "4            4           12           15            3           17   \n",
       "\n",
       "   cat_from_19  cat_from_20  \n",
       "0            1            4  \n",
       "1            6            0  \n",
       "2            1            0  \n",
       "3            1            4  \n",
       "4            1            4  "
      ]
     },
     "execution_count": 38,
     "metadata": {},
     "output_type": "execute_result"
    }
   ],
   "source": [
    "y_preds.head()"
   ]
  },
  {
   "cell_type": "code",
   "execution_count": 42,
   "metadata": {
    "collapsed": false
   },
   "outputs": [],
   "source": [
    "df_label = pd.read_csv(dataroot+'test_stats_boston.csv')\n",
    "clusters_df = df_label.join(y_preds)\n",
    "clusters_df.to_csv(dataroot+'clusters_boston.csv')"
   ]
  },
  {
   "cell_type": "code",
   "execution_count": null,
   "metadata": {
    "collapsed": true
   },
   "outputs": [],
   "source": []
  },
  {
   "cell_type": "code",
   "execution_count": null,
   "metadata": {
    "collapsed": true
   },
   "outputs": [],
   "source": []
  },
  {
   "cell_type": "markdown",
   "metadata": {},
   "source": [
    "# spectral clustering w/ precomputed affinity matrix (class level)"
   ]
  },
  {
   "cell_type": "code",
   "execution_count": 2,
   "metadata": {
    "collapsed": false
   },
   "outputs": [],
   "source": [
    "cats_boston = ['Agassiz','Allston','Area 2/MIT','BROOKLINE_02445','BROOKLINE_02446','Back Bay',  \n",
    "        'Bay Village','Beacon Hill','Brighton','Cambridgeport','Charlestown','Chinatown',\n",
    "        'Dorchester','Downtown','EVERETT_02149','East Boston','East Cambridge','Fenway',\n",
    "        'Jamaica Plain','Leather District','Longwood Medical Area','MEDFORD_02155','Mid-Cambridge',\n",
    "        'Mission Hill','Neighborhood Nine','North Cambridge','North End','Riverside','Roxbury',\n",
    "        'SOMERVILLE_02143','SOMERVILLE_02144','SOMERVILLE_02145','South Boston','South Boston Waterfront',\n",
    "        'South End','The Port','WATERTOWN_02472','Wellington-Harrington','West Cambridge','West End']"
   ]
  },
  {
   "cell_type": "code",
   "execution_count": 3,
   "metadata": {
    "collapsed": false
   },
   "outputs": [],
   "source": [
    "confuse_df = pd.read_csv(dataroot+'deep_confusion_directed_boston.csv')"
   ]
  },
  {
   "cell_type": "code",
   "execution_count": 4,
   "metadata": {
    "collapsed": false
   },
   "outputs": [
    {
     "data": {
      "text/plain": [
       "['0',\n",
       " '1',\n",
       " '2',\n",
       " '3',\n",
       " '4',\n",
       " '5',\n",
       " '6',\n",
       " '7',\n",
       " '8',\n",
       " '9',\n",
       " '10',\n",
       " '11',\n",
       " '12',\n",
       " '13',\n",
       " '14',\n",
       " '15',\n",
       " '16',\n",
       " '17',\n",
       " '18',\n",
       " '19',\n",
       " '20',\n",
       " '21',\n",
       " '22',\n",
       " '23',\n",
       " '24',\n",
       " '25',\n",
       " '26',\n",
       " '27',\n",
       " '28',\n",
       " '29',\n",
       " '30',\n",
       " '31',\n",
       " '32',\n",
       " '33',\n",
       " '34',\n",
       " '35',\n",
       " '36',\n",
       " '37',\n",
       " '38',\n",
       " '39']"
      ]
     },
     "execution_count": 4,
     "metadata": {},
     "output_type": "execute_result"
    }
   ],
   "source": [
    "cats = list(confuse_df.columns)\n",
    "cats"
   ]
  },
  {
   "cell_type": "code",
   "execution_count": 5,
   "metadata": {
    "collapsed": false
   },
   "outputs": [
    {
     "data": {
      "text/html": [
       "<div>\n",
       "<table border=\"1\" class=\"dataframe\">\n",
       "  <thead>\n",
       "    <tr style=\"text-align: right;\">\n",
       "      <th></th>\n",
       "      <th>Agassiz</th>\n",
       "      <th>Allston</th>\n",
       "      <th>Area 2/MIT</th>\n",
       "      <th>BROOKLINE_02445</th>\n",
       "      <th>BROOKLINE_02446</th>\n",
       "      <th>Back Bay</th>\n",
       "      <th>Bay Village</th>\n",
       "      <th>Beacon Hill</th>\n",
       "      <th>Brighton</th>\n",
       "      <th>Cambridgeport</th>\n",
       "      <th>...</th>\n",
       "      <th>SOMERVILLE_02144</th>\n",
       "      <th>SOMERVILLE_02145</th>\n",
       "      <th>South Boston</th>\n",
       "      <th>South Boston Waterfront</th>\n",
       "      <th>South End</th>\n",
       "      <th>The Port</th>\n",
       "      <th>WATERTOWN_02472</th>\n",
       "      <th>Wellington-Harrington</th>\n",
       "      <th>West Cambridge</th>\n",
       "      <th>West End</th>\n",
       "    </tr>\n",
       "  </thead>\n",
       "  <tbody>\n",
       "    <tr>\n",
       "      <th>Agassiz</th>\n",
       "      <td>0.00000</td>\n",
       "      <td>0.548820</td>\n",
       "      <td>1.4254</td>\n",
       "      <td>0.28244</td>\n",
       "      <td>0.028344</td>\n",
       "      <td>0.00000</td>\n",
       "      <td>0.00000</td>\n",
       "      <td>0.67611</td>\n",
       "      <td>0.95190</td>\n",
       "      <td>0.00000</td>\n",
       "      <td>...</td>\n",
       "      <td>0.0000</td>\n",
       "      <td>0.141870</td>\n",
       "      <td>0.00000</td>\n",
       "      <td>0.00000</td>\n",
       "      <td>0.46437</td>\n",
       "      <td>0.00000</td>\n",
       "      <td>0.00000</td>\n",
       "      <td>0.55090</td>\n",
       "      <td>0.32610</td>\n",
       "      <td>0.61048</td>\n",
       "    </tr>\n",
       "    <tr>\n",
       "      <th>Allston</th>\n",
       "      <td>0.45952</td>\n",
       "      <td>0.000000</td>\n",
       "      <td>2.9551</td>\n",
       "      <td>0.34409</td>\n",
       "      <td>1.328700</td>\n",
       "      <td>0.56830</td>\n",
       "      <td>0.36537</td>\n",
       "      <td>0.27700</td>\n",
       "      <td>1.01270</td>\n",
       "      <td>1.26250</td>\n",
       "      <td>...</td>\n",
       "      <td>1.0943</td>\n",
       "      <td>0.756220</td>\n",
       "      <td>2.03370</td>\n",
       "      <td>0.45480</td>\n",
       "      <td>0.48447</td>\n",
       "      <td>0.27222</td>\n",
       "      <td>4.85470</td>\n",
       "      <td>0.85347</td>\n",
       "      <td>2.27840</td>\n",
       "      <td>0.45490</td>\n",
       "    </tr>\n",
       "    <tr>\n",
       "      <th>Area 2/MIT</th>\n",
       "      <td>0.50031</td>\n",
       "      <td>1.867700</td>\n",
       "      <td>0.0000</td>\n",
       "      <td>0.00000</td>\n",
       "      <td>0.169970</td>\n",
       "      <td>0.95467</td>\n",
       "      <td>1.08360</td>\n",
       "      <td>2.48730</td>\n",
       "      <td>1.62620</td>\n",
       "      <td>0.29966</td>\n",
       "      <td>...</td>\n",
       "      <td>0.0000</td>\n",
       "      <td>0.060545</td>\n",
       "      <td>0.00000</td>\n",
       "      <td>0.78975</td>\n",
       "      <td>0.77806</td>\n",
       "      <td>0.23398</td>\n",
       "      <td>0.83648</td>\n",
       "      <td>0.57936</td>\n",
       "      <td>0.00000</td>\n",
       "      <td>1.48630</td>\n",
       "    </tr>\n",
       "    <tr>\n",
       "      <th>BROOKLINE_02445</th>\n",
       "      <td>3.19740</td>\n",
       "      <td>0.000000</td>\n",
       "      <td>0.0000</td>\n",
       "      <td>0.00000</td>\n",
       "      <td>2.527500</td>\n",
       "      <td>0.35192</td>\n",
       "      <td>0.00000</td>\n",
       "      <td>1.51880</td>\n",
       "      <td>0.93899</td>\n",
       "      <td>0.34596</td>\n",
       "      <td>...</td>\n",
       "      <td>0.2066</td>\n",
       "      <td>0.000000</td>\n",
       "      <td>0.54268</td>\n",
       "      <td>0.10950</td>\n",
       "      <td>0.14191</td>\n",
       "      <td>0.60782</td>\n",
       "      <td>1.20900</td>\n",
       "      <td>0.49306</td>\n",
       "      <td>1.04530</td>\n",
       "      <td>0.21090</td>\n",
       "    </tr>\n",
       "    <tr>\n",
       "      <th>BROOKLINE_02446</th>\n",
       "      <td>1.87740</td>\n",
       "      <td>0.091915</td>\n",
       "      <td>1.2143</td>\n",
       "      <td>2.47690</td>\n",
       "      <td>0.000000</td>\n",
       "      <td>1.63910</td>\n",
       "      <td>0.42834</td>\n",
       "      <td>0.85019</td>\n",
       "      <td>0.77856</td>\n",
       "      <td>0.00000</td>\n",
       "      <td>...</td>\n",
       "      <td>0.2252</td>\n",
       "      <td>0.000000</td>\n",
       "      <td>0.45653</td>\n",
       "      <td>0.00000</td>\n",
       "      <td>0.29540</td>\n",
       "      <td>0.00000</td>\n",
       "      <td>0.14986</td>\n",
       "      <td>0.00000</td>\n",
       "      <td>0.50132</td>\n",
       "      <td>0.78573</td>\n",
       "    </tr>\n",
       "  </tbody>\n",
       "</table>\n",
       "<p>5 rows × 40 columns</p>\n",
       "</div>"
      ],
      "text/plain": [
       "                 Agassiz   Allston  Area 2/MIT  BROOKLINE_02445  \\\n",
       "Agassiz          0.00000  0.548820      1.4254          0.28244   \n",
       "Allston          0.45952  0.000000      2.9551          0.34409   \n",
       "Area 2/MIT       0.50031  1.867700      0.0000          0.00000   \n",
       "BROOKLINE_02445  3.19740  0.000000      0.0000          0.00000   \n",
       "BROOKLINE_02446  1.87740  0.091915      1.2143          2.47690   \n",
       "\n",
       "                 BROOKLINE_02446  Back Bay  Bay Village  Beacon Hill  \\\n",
       "Agassiz                 0.028344   0.00000      0.00000      0.67611   \n",
       "Allston                 1.328700   0.56830      0.36537      0.27700   \n",
       "Area 2/MIT              0.169970   0.95467      1.08360      2.48730   \n",
       "BROOKLINE_02445         2.527500   0.35192      0.00000      1.51880   \n",
       "BROOKLINE_02446         0.000000   1.63910      0.42834      0.85019   \n",
       "\n",
       "                 Brighton  Cambridgeport    ...     SOMERVILLE_02144  \\\n",
       "Agassiz           0.95190        0.00000    ...               0.0000   \n",
       "Allston           1.01270        1.26250    ...               1.0943   \n",
       "Area 2/MIT        1.62620        0.29966    ...               0.0000   \n",
       "BROOKLINE_02445   0.93899        0.34596    ...               0.2066   \n",
       "BROOKLINE_02446   0.77856        0.00000    ...               0.2252   \n",
       "\n",
       "                 SOMERVILLE_02145  South Boston  South Boston Waterfront  \\\n",
       "Agassiz                  0.141870       0.00000                  0.00000   \n",
       "Allston                  0.756220       2.03370                  0.45480   \n",
       "Area 2/MIT               0.060545       0.00000                  0.78975   \n",
       "BROOKLINE_02445          0.000000       0.54268                  0.10950   \n",
       "BROOKLINE_02446          0.000000       0.45653                  0.00000   \n",
       "\n",
       "                 South End  The Port  WATERTOWN_02472  Wellington-Harrington  \\\n",
       "Agassiz            0.46437   0.00000          0.00000                0.55090   \n",
       "Allston            0.48447   0.27222          4.85470                0.85347   \n",
       "Area 2/MIT         0.77806   0.23398          0.83648                0.57936   \n",
       "BROOKLINE_02445    0.14191   0.60782          1.20900                0.49306   \n",
       "BROOKLINE_02446    0.29540   0.00000          0.14986                0.00000   \n",
       "\n",
       "                 West Cambridge  West End  \n",
       "Agassiz                 0.32610   0.61048  \n",
       "Allston                 2.27840   0.45490  \n",
       "Area 2/MIT              0.00000   1.48630  \n",
       "BROOKLINE_02445         1.04530   0.21090  \n",
       "BROOKLINE_02446         0.50132   0.78573  \n",
       "\n",
       "[5 rows x 40 columns]"
      ]
     },
     "execution_count": 5,
     "metadata": {},
     "output_type": "execute_result"
    }
   ],
   "source": [
    "#confuse_df.columns = cats_boston\n",
    "confuse_df.index = confuse_df.columns\n",
    "confuse_df.head()"
   ]
  },
  {
   "cell_type": "code",
   "execution_count": 6,
   "metadata": {
    "collapsed": false
   },
   "outputs": [
    {
     "data": {
      "text/plain": [
       "matrix([[ 0.      ,  0.50417 ,  0.962855, ...,  0.73134 ,  1.24085 ,  0.5     ],\n",
       "        [ 0.50417 ,  0.      ,  2.4114  , ...,  0.896225,  1.8224  ,\n",
       "          1.08705 ],\n",
       "        [ 0.962855,  2.4114  ,  0.      , ...,  0.76279 ,  0.46115 ,\n",
       "          1.52965 ],\n",
       "        ..., \n",
       "        [ 0.73134 ,  0.896225,  0.76279 , ...,  0.      ,  0.73465 ,  0.7984  ],\n",
       "        [ 1.24085 ,  1.8224  ,  0.46115 , ...,  0.73465 ,  0.      ,\n",
       "          0.561075],\n",
       "        [ 0.5     ,  1.08705 ,  1.52965 , ...,  0.7984  ,  0.561075,  0.      ]])"
      ]
     },
     "execution_count": 6,
     "metadata": {},
     "output_type": "execute_result"
    }
   ],
   "source": [
    "confuse_matrix = np.matrix(confuse_df)\n",
    "# make connectivity symmetric\n",
    "confuse_matrix = 0.5 * (confuse_matrix + confuse_matrix.T)\n",
    "confuse_matrix"
   ]
  },
  {
   "cell_type": "markdown",
   "metadata": {},
   "source": [
    "### below is for javascript (node-link graph; cluster map)"
   ]
  },
  {
   "cell_type": "code",
   "execution_count": null,
   "metadata": {
    "collapsed": true
   },
   "outputs": [],
   "source": [
    "for i in range(len(confuse_df)):\n",
    "    for j in range(i, len(confuse_df)):\n",
    "        "
   ]
  },
  {
   "cell_type": "code",
   "execution_count": 9,
   "metadata": {
    "collapsed": true
   },
   "outputs": [],
   "source": [
    "# http://scikit-learn.org/stable/auto_examples/cluster/plot_cluster_comparison.html\n",
    "for i in range(2,8):\n",
    "    spectral = cluster.SpectralClustering(n_clusters=i,\n",
    "                                          eigen_solver='arpack',\n",
    "                                          affinity=\"precomputed\")\n",
    "    y_pred = spectral.fit_predict(confuse_matrix)\n",
    "    confuse_df['cluster_outof_'+str(i)] = y_pred\n",
    "confuse_df.to_csv(dataroot+'deep_confusion_singapore.csv')"
   ]
  },
  {
   "cell_type": "markdown",
   "metadata": {},
   "source": [
    "### below is for visualizing in ipynb"
   ]
  },
  {
   "cell_type": "code",
   "execution_count": 67,
   "metadata": {
    "collapsed": false
   },
   "outputs": [],
   "source": [
    "spectral = cluster.SpectralClustering(n_clusters=6,\n",
    "                                      eigen_solver='arpack',\n",
    "                                      affinity=\"precomputed\")\n",
    "# y_pred = spectral.fit_predict(conf_matrix)\n",
    "# order = np.argsort(y_pred)\n",
    "# reorderd_mtx = np.matrix(np.array(conf_matrix)[order][:,[order]])"
   ]
  },
  {
   "cell_type": "code",
   "execution_count": 68,
   "metadata": {
    "collapsed": false
   },
   "outputs": [
    {
     "data": {
      "text/plain": [
       "array([0, 5, 3, 1, 0, 2, 3, 4, 3, 4, 1, 3, 4, 1, 0, 1, 5, 1, 5, 3])"
      ]
     },
     "execution_count": 68,
     "metadata": {},
     "output_type": "execute_result"
    }
   ],
   "source": [
    "# predict cluster memberships\n",
    "y_pred = spectral.fit_predict(confuse_matrix)\n",
    "y_pred"
   ]
  },
  {
   "cell_type": "code",
   "execution_count": 69,
   "metadata": {
    "collapsed": false
   },
   "outputs": [],
   "source": [
    "# confuse_df['cluster_outof_'+str(i)] = y_pred\n",
    "# confuse_df.to_csv(dataroot+'confusion_boston.csv')"
   ]
  },
  {
   "cell_type": "code",
   "execution_count": 70,
   "metadata": {
    "collapsed": false
   },
   "outputs": [],
   "source": [
    "orderind = np.argsort(y_pred)"
   ]
  },
  {
   "cell_type": "code",
   "execution_count": 71,
   "metadata": {
    "collapsed": false
   },
   "outputs": [
    {
     "data": {
      "text/plain": [
       "array([0, 0, 0, 1, 1, 1, 1, 1, 2, 3, 3, 3, 3, 3, 4, 4, 4, 5, 5, 5])"
      ]
     },
     "execution_count": 71,
     "metadata": {},
     "output_type": "execute_result"
    }
   ],
   "source": [
    "y_pred[orderind]"
   ]
  },
  {
   "cell_type": "code",
   "execution_count": 72,
   "metadata": {
    "collapsed": false
   },
   "outputs": [
    {
     "data": {
      "text/plain": [
       "array(['Bishan', 'Geylang', 'Sallang', 'StraitsView', 'SingaporeRiver',\n",
       "       'DowntownCore', 'Rochor', 'Outram', 'MarinaSouth', 'Queenstown',\n",
       "       'ToaPayoh', 'Novena', 'Museum', 'BukitTimah', 'RiverValley',\n",
       "       'Newton', 'Orchard', 'SouthernIslands', 'BukitMerah', 'Tanglin'], \n",
       "      dtype='|S15')"
      ]
     },
     "execution_count": 72,
     "metadata": {},
     "output_type": "execute_result"
    }
   ],
   "source": [
    "# http://stackoverflow.com/questions/18547847/sort-rows-and-columns-of-a-matrix-by-another-list-with-numpy\n",
    "reorderd_confuse_matrix = np.matrix(np.array(confuse_matrix)[orderind][:,[orderind]])\n",
    "reorderd_cats = np.array(cats)[orderind]\n",
    "reorderd_cats"
   ]
  },
  {
   "cell_type": "code",
   "execution_count": 73,
   "metadata": {
    "collapsed": false,
    "scrolled": false
   },
   "outputs": [
    {
     "data": {
      "image/png": "[encoded data removed]",
      "text/plain": [
       "<matplotlib.figure.Figure at 0x1c7d06a0>"
      ]
     },
     "metadata": {},
     "output_type": "display_data"
    }
   ],
   "source": [
    "# http://stackoverflow.com/questions/24190858/matplotlib-move-ticklabels-between-ticks\n",
    "# http://stackoverflow.com/questions/17109608/change-figure-size-and-figure-format-in-matplotlib\n",
    "fig = plt.figure(figsize=(12,12))\n",
    "\n",
    "ax = fig.add_subplot(111)\n",
    "im = ax.matshow(confuse_matrix, cmap='gray')\n",
    "#fig.colorbar(im)\n",
    "\n",
    "# Shift ticks to be at 0.5, 1.5, etc\n",
    "#for axis in [ax.xaxis, ax.yaxis]:\n",
    "ax.yaxis.set(ticks=np.arange(0, len(cats)), ticklabels=cats)\n",
    "ax.xaxis.set(ticks=np.arange(0, len(cats)), ticklabels=cats)\n",
    "\n",
    "labels = ax.get_xticklabels()\n",
    "plt.setp(labels, rotation=90)\n",
    "\n",
    "plt.show()"
   ]
  },
  {
   "cell_type": "code",
   "execution_count": 74,
   "metadata": {
    "collapsed": false,
    "scrolled": false
   },
   "outputs": [
    {
     "data": {
      "image/png": "[encoded data removed]",
      "text/plain": [
       "<matplotlib.figure.Figure at 0x1c872320>"
      ]
     },
     "metadata": {},
     "output_type": "display_data"
    }
   ],
   "source": [
    "fig = plt.figure(figsize=(12,12))\n",
    "\n",
    "ax = fig.add_subplot(111)\n",
    "im = ax.matshow(reorderd_confuse_matrix, cmap='gray')\n",
    "#fig.colorbar(im)\n",
    "\n",
    "# Shift ticks to be at 0.5, 1.5, etc\n",
    "#for axis in [ax.xaxis, ax.yaxis]:\n",
    "ax.yaxis.set(ticks=np.arange(0, len(reorderd_cats)), ticklabels=reorderd_cats)\n",
    "ax.xaxis.set(ticks=np.arange(0, len(reorderd_cats)), ticklabels=reorderd_cats)\n",
    "\n",
    "labels = ax.get_xticklabels()\n",
    "plt.setp(labels, rotation=90)\n",
    "\n",
    "plt.show()"
   ]
  },
  {
   "cell_type": "markdown",
   "metadata": {},
   "source": [
    "### below are trials"
   ]
  },
  {
   "cell_type": "code",
   "execution_count": 133,
   "metadata": {
    "collapsed": false
   },
   "outputs": [],
   "source": [
    "spectral = cluster.SpectralClustering(n_clusters=2,\n",
    "                                      eigen_solver='lobpcg',\n",
    "                                      affinity=\"precomputed\")"
   ]
  },
  {
   "cell_type": "code",
   "execution_count": 134,
   "metadata": {
    "collapsed": true
   },
   "outputs": [],
   "source": [
    "n_samples = 50\n",
    "noisy_moons = datasets.make_moons(n_samples=n_samples, noise=.05)"
   ]
  },
  {
   "cell_type": "code",
   "execution_count": 135,
   "metadata": {
    "collapsed": false
   },
   "outputs": [
    {
     "data": {
      "text/plain": [
       "(array([[ 0.58148611,  0.76254981],\n",
       "        [ 1.95243209,  0.51519132],\n",
       "        [ 0.21855416, -0.23125171],\n",
       "        [ 1.95520899,  0.06916467],\n",
       "        [ 0.29348265, -0.25943801],\n",
       "        [ 0.05041012,  0.59029425],\n",
       "        [ 0.03108532,  0.24142774],\n",
       "        [ 0.07283069,  1.02615099],\n",
       "        [-0.98508263,  0.08231534],\n",
       "        [ 0.1262368 ,  0.99307559],\n",
       "        [ 1.51245643, -0.36774293],\n",
       "        [-0.1598357 ,  0.95682439],\n",
       "        [-0.39608513,  0.99045147],\n",
       "        [ 1.36649186, -0.3750856 ],\n",
       "        [ 0.07244064,  0.06818639],\n",
       "        [ 0.25420156,  1.02450566],\n",
       "        [ 1.08822287,  0.19083778],\n",
       "        [-1.00718102,  0.2601441 ],\n",
       "        [-0.710594  ,  0.6002055 ],\n",
       "        [-0.89249045,  0.3427353 ],\n",
       "        [ 1.03266347,  0.22404364],\n",
       "        [ 1.10917276, -0.51621262],\n",
       "        [ 1.81352631,  0.04587511],\n",
       "        [ 0.80515528, -0.48964824],\n",
       "        [ 0.46550891, -0.28447265],\n",
       "        [ 0.84152508,  0.6333977 ],\n",
       "        [ 0.94315288,  0.29457502],\n",
       "        [ 0.47517569,  0.84306134],\n",
       "        [ 0.31037328, -0.1666494 ],\n",
       "        [ 0.60685767, -0.47800371],\n",
       "        [ 2.01291357,  0.35512913],\n",
       "        [-0.27615896,  0.93057113],\n",
       "        [ 1.47190601, -0.33063545],\n",
       "        [ 1.32379646, -0.44417782],\n",
       "        [ 0.57200976,  0.62922238],\n",
       "        [-0.72078903,  0.80498291],\n",
       "        [ 1.73198216, -0.18351839],\n",
       "        [ 0.03497603,  0.35919844],\n",
       "        [-0.82114483,  0.46664337],\n",
       "        [ 0.9999731 , -0.01821316],\n",
       "        [-0.39758344,  0.91720396],\n",
       "        [ 0.79306935, -0.47371018],\n",
       "        [ 1.25324278, -0.48461117],\n",
       "        [-0.03087667,  0.04507248],\n",
       "        [ 0.44733509,  0.94297487],\n",
       "        [ 1.90249321,  0.28658099],\n",
       "        [ 0.85835285,  0.42997193],\n",
       "        [ 1.76545793, -0.09477224],\n",
       "        [-1.08901629,  0.02244365],\n",
       "        [-0.5644027 ,  0.83746762]]),\n",
       " array([0, 1, 1, 1, 1, 1, 1, 0, 0, 0, 1, 0, 0, 1, 1, 0, 0, 0, 0, 0, 0, 1, 1,\n",
       "        1, 1, 0, 0, 0, 1, 1, 1, 0, 1, 1, 0, 0, 1, 1, 0, 0, 0, 1, 1, 1, 0, 1,\n",
       "        0, 1, 0, 0], dtype=int64))"
      ]
     },
     "execution_count": 135,
     "metadata": {},
     "output_type": "execute_result"
    }
   ],
   "source": [
    "X, y = noisy_moons\n",
    "X,y"
   ]
  },
  {
   "cell_type": "code",
   "execution_count": 136,
   "metadata": {
    "collapsed": false
   },
   "outputs": [
    {
     "data": {
      "text/plain": [
       "array([[ 0. ,  0. ,  0. , ...,  0. ,  0. ,  0. ],\n",
       "       [ 0. ,  0. ,  0. , ...,  0.5,  0. ,  0. ],\n",
       "       [ 0. ,  0. ,  0. , ...,  0. ,  0.5,  0. ],\n",
       "       ..., \n",
       "       [ 0. ,  0.5,  0. , ...,  0. ,  0. ,  0. ],\n",
       "       [ 0. ,  0. ,  0.5, ...,  0. ,  0. ,  0. ],\n",
       "       [ 0. ,  0. ,  0. , ...,  0. ,  0. ,  0. ]])"
      ]
     },
     "execution_count": 136,
     "metadata": {},
     "output_type": "execute_result"
    }
   ],
   "source": [
    "# normalize dataset for easier parameter selection\n",
    "X = StandardScaler().fit_transform(X)\n",
    "connectivity = kneighbors_graph(X, n_neighbors=10, include_self=False)\n",
    "# make connectivity symmetric\n",
    "connectivity = 0.5 * (connectivity + connectivity.T)\n",
    "# http://scikit-learn.org/stable/modules/generated/sklearn.neighbors.kneighbors_graph.html\n",
    "# A is the matrix\n",
    "connectivity.A"
   ]
  },
  {
   "cell_type": "code",
   "execution_count": 137,
   "metadata": {
    "collapsed": false
   },
   "outputs": [
    {
     "data": {
      "text/plain": [
       "<matplotlib.collections.PathCollection at 0x227d3c50>"
      ]
     },
     "execution_count": 137,
     "metadata": {},
     "output_type": "execute_result"
    },
    {
     "data": {
      "image/png": "[encoded data removed]",
      "text/plain": [
       "<matplotlib.figure.Figure at 0x22537b70>"
      ]
     },
     "metadata": {},
     "output_type": "display_data"
    }
   ],
   "source": [
    "colors = np.array([x for x in 'bgrcmykbgrcmykbgrcmykbgrcmyk'])\n",
    "colors = np.hstack([colors] * 20)\n",
    "\n",
    "# predict cluster memberships\n",
    "y_pred = spectral.fit_predict(connectivity)\n",
    "# cls\n",
    "# plot\n",
    "plt.scatter(X[:, 0], X[:, 1], color=colors[y_pred].tolist(), s=10)\n"
   ]
  },
  {
   "cell_type": "code",
   "execution_count": null,
   "metadata": {
    "collapsed": true
   },
   "outputs": [],
   "source": []
  }
 ],
 "metadata": {
  "kernelspec": {
   "display_name": "Python 2",
   "language": "python",
   "name": "python2"
  },
  "language_info": {
   "codemirror_mode": {
    "name": "ipython",
    "version": 2
   },
   "file_extension": ".py",
   "mimetype": "text/x-python",
   "name": "python",
   "nbconvert_exporter": "python",
   "pygments_lexer": "ipython2",
   "version": "2.7.11"
  }
 },
 "nbformat": 4,
 "nbformat_minor": 0
}
