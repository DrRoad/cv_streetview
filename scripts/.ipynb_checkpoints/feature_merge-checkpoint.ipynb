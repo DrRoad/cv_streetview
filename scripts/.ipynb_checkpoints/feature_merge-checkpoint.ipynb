{
 "cells": [
  {
   "cell_type": "code",
   "execution_count": 59,
   "metadata": {
    "collapsed": true
   },
   "outputs": [],
   "source": [
    "import numpy as np\n",
    "# import matplotlib.pyplot as plt\n",
    "# %matplotlib inline\n",
    "import os\n",
    "# import sys\n",
    "import pandas as pd\n",
    "\n",
    "dataroot = 'C:/Users/lezhi/Dropbox/thesis/data/'\n",
    "tgtroot = 'C:/Users/lezhi/Dropbox/thesis/img/'"
   ]
  },
  {
   "cell_type": "code",
   "execution_count": 12,
   "metadata": {
    "collapsed": true
   },
   "outputs": [],
   "source": [
    "cities = ['boston', 'chicago', 'newyork', 'sanfrancisco']\n",
    "#cities = ['boston']\n",
    "features = ['sky_tree', 'entropy_mean', 'color4']"
   ]
  },
  {
   "cell_type": "code",
   "execution_count": 13,
   "metadata": {
    "collapsed": false
   },
   "outputs": [],
   "source": [
    "for c in cities:\n",
    "    df = pd.read_csv(dataroot+features[0]+'_'+c+'.csv', index_col=0)\n",
    "    df[['lat','lng']] = df[['lat','lng']].astype(str)\n",
    "    for f in features[1:]:\n",
    "        df1 = pd.read_csv(dataroot + f + '_' + c + '.csv', index_col=0)\n",
    "#         if not f == 'neighborhood':\n",
    "        df1[['lat','lng']] = df1[['lat','lng']].astype(str)\n",
    "        df = pd.merge(df, df1, how='outer', on=['lat','lng'])\n",
    "        \n",
    "    \n",
    "    df['lat'] = [ele[:9] for ele in df['lat']]\n",
    "    if c == 'sanfrancisco':\n",
    "        df['lng'] = [ele[:11] for ele in df['lng']]\n",
    "    else:\n",
    "        df['lng'] = [ele[:10] for ele in df['lng']]\n",
    "        \n",
    "    df.loc[pd.isnull(df['color']), 'entropy_mean'] = np.nan\n",
    "    df['neighborhood'] = pd.read_csv(dataroot + 'neighborhood_' + c + '.csv')['NAME']\n",
    "    df['city'] = c\n",
    "        \n",
    "    df.to_csv(dataroot + c + '.csv')"
   ]
  },
  {
   "cell_type": "code",
   "execution_count": null,
   "metadata": {
    "collapsed": true
   },
   "outputs": [],
   "source": []
  },
  {
   "cell_type": "code",
   "execution_count": 28,
   "metadata": {
    "collapsed": false
   },
   "outputs": [
    {
     "data": {
      "text/plain": [
       "123"
      ]
     },
     "execution_count": 28,
     "metadata": {},
     "output_type": "execute_result"
    }
   ],
   "source": [
    "np.sum(pd.isnull(df['color']))"
   ]
  },
  {
   "cell_type": "markdown",
   "metadata": {
    "collapsed": true
   },
   "source": [
    "# change image names"
   ]
  },
  {
   "cell_type": "code",
   "execution_count": 84,
   "metadata": {
    "collapsed": true
   },
   "outputs": [],
   "source": [
    "def iter_dir(rootdir, dostuff):\n",
    "    citynames = np.array(sorted([d for d in os.listdir(rootdir) if os.path.isdir(rootdir)]))\n",
    "    for cityname in citynames[np.array([1,3,7])]:   ######################\n",
    "        citypath = rootdir + cityname \n",
    "        print citypath\n",
    "        imgnames = sorted([f[:-4] for f in os.listdir(citypath) if os.path.isfile(os.path.join(citypath, f))])\n",
    "        \n",
    "        lat_lng_dir = np.array([name.replace('_',',').split(',') for name in imgnames])\n",
    "        newnames = [(re.sub('0$','1', ele[0][:9]) + \",\" + re.sub('0$','1', ele[1][:10]) + \"_\" + ele[2]) for ele in lat_lng_dir]\n",
    "        \n",
    "        old_new = zip(imgnames, newnames)\n",
    "        \n",
    "        for item in old_new:\n",
    "            dostuff(item, citypath)\n",
    "            \n",
    "# to prove that no repetivive image names exist            \n",
    "#         print len(newnames), len(np.unique(np.array(newnames)))"
   ]
  },
  {
   "cell_type": "code",
   "execution_count": 80,
   "metadata": {
    "collapsed": true
   },
   "outputs": [],
   "source": [
    "def renameFile(tup, _dir):\n",
    "    #print _dir + \"/\" + tup[0] + \".png\"\n",
    "    os.rename(_dir + \"/\" + tup[0] + \".png\", _dir + \"/\" + tup[1] + \".png\")"
   ]
  },
  {
   "cell_type": "code",
   "execution_count": 77,
   "metadata": {
    "collapsed": false,
    "scrolled": false
   },
   "outputs": [
    {
     "name": "stdout",
     "output_type": "stream",
     "text": [
      "C:/Users/lezhi/Dropbox/thesis/img/boston\n",
      "11964 11964\n",
      "C:/Users/lezhi/Dropbox/thesis/img/chicago\n",
      "10693 10693\n",
      "C:/Users/lezhi/Dropbox/thesis/img/newyork\n",
      "11080 11080\n",
      "C:/Users/lezhi/Dropbox/thesis/img/sanfrancisco\n",
      "12658 12658\n"
     ]
    }
   ],
   "source": [
    "iter_dir(tgtroot, renameFile)"
   ]
  },
  {
   "cell_type": "code",
   "execution_count": null,
   "metadata": {
    "collapsed": false
   },
   "outputs": [],
   "source": [
    "iter_dir(tgtroot, renameFile)"
   ]
  },
  {
   "cell_type": "code",
   "execution_count": 18,
   "metadata": {
    "collapsed": false
   },
   "outputs": [
    {
     "data": {
      "text/plain": [
       "'3.14134'"
      ]
     },
     "execution_count": 18,
     "metadata": {},
     "output_type": "execute_result"
    }
   ],
   "source": [
    "'{0:g}'.format(float('3.14134000'))"
   ]
  },
  {
   "cell_type": "code",
   "execution_count": 73,
   "metadata": {
    "collapsed": true
   },
   "outputs": [],
   "source": [
    "import re\n",
    "line = re.sub('0$', '1', '-53.141584613434000')"
   ]
  },
  {
   "cell_type": "code",
   "execution_count": 74,
   "metadata": {
    "collapsed": false
   },
   "outputs": [
    {
     "data": {
      "text/plain": [
       "'-53.141584613434001'"
      ]
     },
     "execution_count": 74,
     "metadata": {},
     "output_type": "execute_result"
    }
   ],
   "source": [
    "line"
   ]
  },
  {
   "cell_type": "code",
   "execution_count": null,
   "metadata": {
    "collapsed": true
   },
   "outputs": [],
   "source": []
  }
 ],
 "metadata": {
  "kernelspec": {
   "display_name": "Python 2",
   "language": "python",
   "name": "python2"
  },
  "language_info": {
   "codemirror_mode": {
    "name": "ipython",
    "version": 2
   },
   "file_extension": ".py",
   "mimetype": "text/x-python",
   "name": "python",
   "nbconvert_exporter": "python",
   "pygments_lexer": "ipython2",
   "version": "2.7.11"
  }
 },
 "nbformat": 4,
 "nbformat_minor": 0
}
