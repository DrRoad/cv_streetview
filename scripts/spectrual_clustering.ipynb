{
 "cells": [
  {
   "cell_type": "code",
   "execution_count": 1,
   "metadata": {
    "collapsed": true
   },
   "outputs": [],
   "source": [
    "import numpy as np\n",
    "import matplotlib.pyplot as plt\n",
    "import pandas as pd\n",
    "%matplotlib inline\n",
    "from sklearn import cluster, datasets\n",
    "from sklearn.neighbors import kneighbors_graph\n",
    "from sklearn.preprocessing import StandardScaler\n",
    "\n",
    "# imgroot = '/media/senseable-beast/beast-brain-1/Data/streetviewdata/img/'\n",
    "imgroot = 'C:/Users/lezhi/Dropbox/thesis/img/'\n",
    "dataroot = 'C:/Users/lezhi/Dropbox/thesis/data/'"
   ]
  },
  {
   "cell_type": "markdown",
   "metadata": {},
   "source": [
    "# spectral clustering w/ image feature matrix (Image level)"
   ]
  },
  {
   "cell_type": "code",
   "execution_count": 8,
   "metadata": {
    "collapsed": false
   },
   "outputs": [
    {
     "data": {
      "text/html": [
       "<div>\n",
       "<table border=\"1\" class=\"dataframe\">\n",
       "  <thead>\n",
       "    <tr style=\"text-align: right;\">\n",
       "      <th></th>\n",
       "      <th>0</th>\n",
       "      <th>1</th>\n",
       "      <th>2</th>\n",
       "      <th>3</th>\n",
       "      <th>4</th>\n",
       "      <th>5</th>\n",
       "      <th>6</th>\n",
       "      <th>7</th>\n",
       "      <th>8</th>\n",
       "      <th>9</th>\n",
       "      <th>...</th>\n",
       "      <th>4086</th>\n",
       "      <th>4087</th>\n",
       "      <th>4088</th>\n",
       "      <th>4089</th>\n",
       "      <th>4090</th>\n",
       "      <th>4091</th>\n",
       "      <th>4092</th>\n",
       "      <th>4093</th>\n",
       "      <th>4094</th>\n",
       "      <th>4095</th>\n",
       "    </tr>\n",
       "  </thead>\n",
       "  <tbody>\n",
       "    <tr>\n",
       "      <th>0</th>\n",
       "      <td>2.0897</td>\n",
       "      <td>0</td>\n",
       "      <td>0</td>\n",
       "      <td>0</td>\n",
       "      <td>0</td>\n",
       "      <td>0.54691</td>\n",
       "      <td>0</td>\n",
       "      <td>0</td>\n",
       "      <td>0.00000</td>\n",
       "      <td>1.338</td>\n",
       "      <td>...</td>\n",
       "      <td>0.47297</td>\n",
       "      <td>0.0000</td>\n",
       "      <td>0</td>\n",
       "      <td>0</td>\n",
       "      <td>0.0000</td>\n",
       "      <td>0.0000</td>\n",
       "      <td>0</td>\n",
       "      <td>0</td>\n",
       "      <td>0.000000</td>\n",
       "      <td>0</td>\n",
       "    </tr>\n",
       "    <tr>\n",
       "      <th>1</th>\n",
       "      <td>0.0000</td>\n",
       "      <td>0</td>\n",
       "      <td>0</td>\n",
       "      <td>0</td>\n",
       "      <td>0</td>\n",
       "      <td>0.00000</td>\n",
       "      <td>0</td>\n",
       "      <td>0</td>\n",
       "      <td>0.00000</td>\n",
       "      <td>0.000</td>\n",
       "      <td>...</td>\n",
       "      <td>0.22579</td>\n",
       "      <td>0.0000</td>\n",
       "      <td>0</td>\n",
       "      <td>0</td>\n",
       "      <td>0.0000</td>\n",
       "      <td>0.0000</td>\n",
       "      <td>0</td>\n",
       "      <td>0</td>\n",
       "      <td>0.000000</td>\n",
       "      <td>0</td>\n",
       "    </tr>\n",
       "    <tr>\n",
       "      <th>2</th>\n",
       "      <td>1.1076</td>\n",
       "      <td>0</td>\n",
       "      <td>0</td>\n",
       "      <td>0</td>\n",
       "      <td>0</td>\n",
       "      <td>0.00000</td>\n",
       "      <td>0</td>\n",
       "      <td>0</td>\n",
       "      <td>0.97727</td>\n",
       "      <td>0.000</td>\n",
       "      <td>...</td>\n",
       "      <td>0.00000</td>\n",
       "      <td>0.0000</td>\n",
       "      <td>0</td>\n",
       "      <td>0</td>\n",
       "      <td>0.0000</td>\n",
       "      <td>0.0000</td>\n",
       "      <td>0</td>\n",
       "      <td>0</td>\n",
       "      <td>0.000000</td>\n",
       "      <td>0</td>\n",
       "    </tr>\n",
       "    <tr>\n",
       "      <th>3</th>\n",
       "      <td>0.0000</td>\n",
       "      <td>0</td>\n",
       "      <td>0</td>\n",
       "      <td>0</td>\n",
       "      <td>0</td>\n",
       "      <td>0.00000</td>\n",
       "      <td>0</td>\n",
       "      <td>0</td>\n",
       "      <td>0.21260</td>\n",
       "      <td>0.000</td>\n",
       "      <td>...</td>\n",
       "      <td>1.05530</td>\n",
       "      <td>1.1426</td>\n",
       "      <td>0</td>\n",
       "      <td>0</td>\n",
       "      <td>2.9811</td>\n",
       "      <td>1.0855</td>\n",
       "      <td>0</td>\n",
       "      <td>0</td>\n",
       "      <td>0.001122</td>\n",
       "      <td>0</td>\n",
       "    </tr>\n",
       "    <tr>\n",
       "      <th>4</th>\n",
       "      <td>0.0000</td>\n",
       "      <td>0</td>\n",
       "      <td>0</td>\n",
       "      <td>0</td>\n",
       "      <td>0</td>\n",
       "      <td>0.00000</td>\n",
       "      <td>0</td>\n",
       "      <td>0</td>\n",
       "      <td>0.00000</td>\n",
       "      <td>0.000</td>\n",
       "      <td>...</td>\n",
       "      <td>0.49824</td>\n",
       "      <td>0.0000</td>\n",
       "      <td>0</td>\n",
       "      <td>0</td>\n",
       "      <td>0.0000</td>\n",
       "      <td>1.0555</td>\n",
       "      <td>0</td>\n",
       "      <td>0</td>\n",
       "      <td>0.000000</td>\n",
       "      <td>0</td>\n",
       "    </tr>\n",
       "  </tbody>\n",
       "</table>\n",
       "<p>5 rows × 4096 columns</p>\n",
       "</div>"
      ],
      "text/plain": [
       "        0  1  2  3  4        5  6  7        8      9  ...      4086    4087  \\\n",
       "0  2.0897  0  0  0  0  0.54691  0  0  0.00000  1.338  ...   0.47297  0.0000   \n",
       "1  0.0000  0  0  0  0  0.00000  0  0  0.00000  0.000  ...   0.22579  0.0000   \n",
       "2  1.1076  0  0  0  0  0.00000  0  0  0.97727  0.000  ...   0.00000  0.0000   \n",
       "3  0.0000  0  0  0  0  0.00000  0  0  0.21260  0.000  ...   1.05530  1.1426   \n",
       "4  0.0000  0  0  0  0  0.00000  0  0  0.00000  0.000  ...   0.49824  0.0000   \n",
       "\n",
       "   4088  4089    4090    4091  4092  4093      4094  4095  \n",
       "0     0     0  0.0000  0.0000     0     0  0.000000     0  \n",
       "1     0     0  0.0000  0.0000     0     0  0.000000     0  \n",
       "2     0     0  0.0000  0.0000     0     0  0.000000     0  \n",
       "3     0     0  2.9811  1.0855     0     0  0.001122     0  \n",
       "4     0     0  0.0000  1.0555     0     0  0.000000     0  \n",
       "\n",
       "[5 rows x 4096 columns]"
      ]
     },
     "execution_count": 8,
     "metadata": {},
     "output_type": "execute_result"
    }
   ],
   "source": [
    "df = pd.read_csv(dataroot+'deep_features_boston.csv')\n",
    "df.head()"
   ]
  },
  {
   "cell_type": "markdown",
   "metadata": {},
   "source": [
    "#### DBSCAN doesn't seem working"
   ]
  },
  {
   "cell_type": "code",
   "execution_count": 15,
   "metadata": {
    "collapsed": false
   },
   "outputs": [
    {
     "data": {
      "text/plain": [
       "array([-1, -1, -1, ..., -1, -1, -1], dtype=int64)"
      ]
     },
     "execution_count": 15,
     "metadata": {},
     "output_type": "execute_result"
    }
   ],
   "source": [
    "X = df\n",
    "dbscan = DBSCAN(eps=0.8, min_samples=10, metric='euclidean')\n",
    "dbscan.fit_predict(X)\n",
    "#print(pca.explained_variance_ratio_) \n",
    "#print(dbscan.components_)"
   ]
  },
  {
   "cell_type": "code",
   "execution_count": 14,
   "metadata": {
    "collapsed": false
   },
   "outputs": [
    {
     "name": "stdout",
     "output_type": "stream",
     "text": [
      "(5638L,)\n"
     ]
    }
   ],
   "source": [
    "print(dbscan.labels_)"
   ]
  },
  {
   "cell_type": "markdown",
   "metadata": {},
   "source": [
    "#### Spectural Clustering seems to work"
   ]
  },
  {
   "cell_type": "code",
   "execution_count": 27,
   "metadata": {
    "collapsed": false
   },
   "outputs": [
    {
     "data": {
      "text/plain": [
       "array([1, 0, 0, ..., 0, 0, 1])"
      ]
     },
     "execution_count": 27,
     "metadata": {},
     "output_type": "execute_result"
    }
   ],
   "source": [
    "num_cat = 2\n",
    "spectral = cluster.SpectralClustering(n_clusters=num_cat,\n",
    "                                      eigen_solver='arpack',\n",
    "                                      affinity=\"rbf\")\n",
    "y_pred = spectral.fit_predict(X)\n",
    "y_pred"
   ]
  },
  {
   "cell_type": "code",
   "execution_count": 37,
   "metadata": {
    "collapsed": false
   },
   "outputs": [],
   "source": [
    "y_preds = pd.DataFrame()\n",
    "for num_cat in range(2,21):\n",
    "    print num_cat\n",
    "    spectral = cluster.SpectralClustering(n_clusters=num_cat,\n",
    "                                      eigen_solver='arpack',\n",
    "                                      affinity=\"rbf\")\n",
    "    y_pred = spectral.fit_predict(X)\n",
    "    y_preds['cat_from_'+str(num_cat)] = y_pred"
   ]
  },
  {
   "cell_type": "code",
   "execution_count": 38,
   "metadata": {
    "collapsed": false
   },
   "outputs": [
    {
     "data": {
      "text/html": [
       "<div>\n",
       "<table border=\"1\" class=\"dataframe\">\n",
       "  <thead>\n",
       "    <tr style=\"text-align: right;\">\n",
       "      <th></th>\n",
       "      <th>cat_from_2</th>\n",
       "      <th>cat_from_3</th>\n",
       "      <th>cat_from_4</th>\n",
       "      <th>cat_from_5</th>\n",
       "      <th>cat_from_6</th>\n",
       "      <th>cat_from_7</th>\n",
       "      <th>cat_from_8</th>\n",
       "      <th>cat_from_9</th>\n",
       "      <th>cat_from_10</th>\n",
       "      <th>cat_from_11</th>\n",
       "      <th>cat_from_12</th>\n",
       "      <th>cat_from_13</th>\n",
       "      <th>cat_from_14</th>\n",
       "      <th>cat_from_15</th>\n",
       "      <th>cat_from_16</th>\n",
       "      <th>cat_from_17</th>\n",
       "      <th>cat_from_18</th>\n",
       "      <th>cat_from_19</th>\n",
       "      <th>cat_from_20</th>\n",
       "    </tr>\n",
       "  </thead>\n",
       "  <tbody>\n",
       "    <tr>\n",
       "      <th>0</th>\n",
       "      <td>0</td>\n",
       "      <td>1</td>\n",
       "      <td>1</td>\n",
       "      <td>3</td>\n",
       "      <td>0</td>\n",
       "      <td>1</td>\n",
       "      <td>2</td>\n",
       "      <td>1</td>\n",
       "      <td>3</td>\n",
       "      <td>4</td>\n",
       "      <td>1</td>\n",
       "      <td>2</td>\n",
       "      <td>1</td>\n",
       "      <td>0</td>\n",
       "      <td>1</td>\n",
       "      <td>2</td>\n",
       "      <td>2</td>\n",
       "      <td>1</td>\n",
       "      <td>4</td>\n",
       "    </tr>\n",
       "    <tr>\n",
       "      <th>1</th>\n",
       "      <td>0</td>\n",
       "      <td>2</td>\n",
       "      <td>1</td>\n",
       "      <td>3</td>\n",
       "      <td>0</td>\n",
       "      <td>1</td>\n",
       "      <td>2</td>\n",
       "      <td>8</td>\n",
       "      <td>7</td>\n",
       "      <td>1</td>\n",
       "      <td>1</td>\n",
       "      <td>2</td>\n",
       "      <td>1</td>\n",
       "      <td>8</td>\n",
       "      <td>1</td>\n",
       "      <td>10</td>\n",
       "      <td>13</td>\n",
       "      <td>6</td>\n",
       "      <td>0</td>\n",
       "    </tr>\n",
       "    <tr>\n",
       "      <th>2</th>\n",
       "      <td>1</td>\n",
       "      <td>0</td>\n",
       "      <td>1</td>\n",
       "      <td>2</td>\n",
       "      <td>0</td>\n",
       "      <td>4</td>\n",
       "      <td>6</td>\n",
       "      <td>1</td>\n",
       "      <td>7</td>\n",
       "      <td>1</td>\n",
       "      <td>1</td>\n",
       "      <td>2</td>\n",
       "      <td>1</td>\n",
       "      <td>0</td>\n",
       "      <td>1</td>\n",
       "      <td>3</td>\n",
       "      <td>2</td>\n",
       "      <td>1</td>\n",
       "      <td>0</td>\n",
       "    </tr>\n",
       "    <tr>\n",
       "      <th>3</th>\n",
       "      <td>0</td>\n",
       "      <td>0</td>\n",
       "      <td>1</td>\n",
       "      <td>1</td>\n",
       "      <td>0</td>\n",
       "      <td>1</td>\n",
       "      <td>2</td>\n",
       "      <td>1</td>\n",
       "      <td>7</td>\n",
       "      <td>1</td>\n",
       "      <td>1</td>\n",
       "      <td>2</td>\n",
       "      <td>1</td>\n",
       "      <td>12</td>\n",
       "      <td>1</td>\n",
       "      <td>10</td>\n",
       "      <td>2</td>\n",
       "      <td>1</td>\n",
       "      <td>4</td>\n",
       "    </tr>\n",
       "    <tr>\n",
       "      <th>4</th>\n",
       "      <td>1</td>\n",
       "      <td>0</td>\n",
       "      <td>1</td>\n",
       "      <td>3</td>\n",
       "      <td>0</td>\n",
       "      <td>1</td>\n",
       "      <td>3</td>\n",
       "      <td>1</td>\n",
       "      <td>7</td>\n",
       "      <td>1</td>\n",
       "      <td>1</td>\n",
       "      <td>2</td>\n",
       "      <td>4</td>\n",
       "      <td>12</td>\n",
       "      <td>15</td>\n",
       "      <td>3</td>\n",
       "      <td>17</td>\n",
       "      <td>1</td>\n",
       "      <td>4</td>\n",
       "    </tr>\n",
       "  </tbody>\n",
       "</table>\n",
       "</div>"
      ],
      "text/plain": [
       "   cat_from_2  cat_from_3  cat_from_4  cat_from_5  cat_from_6  cat_from_7  \\\n",
       "0           0           1           1           3           0           1   \n",
       "1           0           2           1           3           0           1   \n",
       "2           1           0           1           2           0           4   \n",
       "3           0           0           1           1           0           1   \n",
       "4           1           0           1           3           0           1   \n",
       "\n",
       "   cat_from_8  cat_from_9  cat_from_10  cat_from_11  cat_from_12  cat_from_13  \\\n",
       "0           2           1            3            4            1            2   \n",
       "1           2           8            7            1            1            2   \n",
       "2           6           1            7            1            1            2   \n",
       "3           2           1            7            1            1            2   \n",
       "4           3           1            7            1            1            2   \n",
       "\n",
       "   cat_from_14  cat_from_15  cat_from_16  cat_from_17  cat_from_18  \\\n",
       "0            1            0            1            2            2   \n",
       "1            1            8            1           10           13   \n",
       "2            1            0            1            3            2   \n",
       "3            1           12            1           10            2   \n",
       "4            4           12           15            3           17   \n",
       "\n",
       "   cat_from_19  cat_from_20  \n",
       "0            1            4  \n",
       "1            6            0  \n",
       "2            1            0  \n",
       "3            1            4  \n",
       "4            1            4  "
      ]
     },
     "execution_count": 38,
     "metadata": {},
     "output_type": "execute_result"
    }
   ],
   "source": [
    "y_preds.head()"
   ]
  },
  {
   "cell_type": "code",
   "execution_count": 42,
   "metadata": {
    "collapsed": false
   },
   "outputs": [],
   "source": [
    "df_label = pd.read_csv(dataroot+'test_stats_boston.csv')\n",
    "clusters_df = df_label.join(y_preds)\n",
    "clusters_df.to_csv(dataroot+'clusters_boston.csv')"
   ]
  },
  {
   "cell_type": "code",
   "execution_count": null,
   "metadata": {
    "collapsed": true
   },
   "outputs": [],
   "source": []
  },
  {
   "cell_type": "code",
   "execution_count": null,
   "metadata": {
    "collapsed": true
   },
   "outputs": [],
   "source": []
  },
  {
   "cell_type": "markdown",
   "metadata": {},
   "source": [
    "# spectral clustering w/ precomputed affinity matrix (class level)"
   ]
  },
  {
   "cell_type": "code",
   "execution_count": 2,
   "metadata": {
    "collapsed": false
   },
   "outputs": [],
   "source": [
    "cats_boston = ['Agassiz','Allston','Area 2/MIT','BROOKLINE_02445','BROOKLINE_02446','Back Bay',  \n",
    "        'Bay Village','Beacon Hill','Brighton','Cambridgeport','Charlestown','Chinatown',\n",
    "        'Dorchester','Downtown','EVERETT_02149','East Boston','East Cambridge','Fenway',\n",
    "        'Jamaica Plain','Leather District','Longwood Medical Area','MEDFORD_02155','Mid-Cambridge',\n",
    "        'Mission Hill','Neighborhood Nine','North Cambridge','North End','Riverside','Roxbury',\n",
    "        'SOMERVILLE_02143','SOMERVILLE_02144','SOMERVILLE_02145','South Boston','South Boston Waterfront',\n",
    "        'South End','The Port','WATERTOWN_02472','Wellington-Harrington','West Cambridge','West End']"
   ]
  },
  {
   "cell_type": "code",
   "execution_count": 16,
   "metadata": {
    "collapsed": false
   },
   "outputs": [],
   "source": [
    "confuse_df = pd.read_csv(dataroot+'confusion_directed_all.csv')"
   ]
  },
  {
   "cell_type": "code",
   "execution_count": 66,
   "metadata": {
    "collapsed": false
   },
   "outputs": [
    {
     "data": {
      "text/plain": [
       "0                      boston_Agassiz\n",
       "1                      boston_Allston\n",
       "2                     boston_Area2MIT\n",
       "3              boston_BROOKLINE_02445\n",
       "4              boston_BROOKLINE_02446\n",
       "5                      boston_BackBay\n",
       "6                   boston_BayVillage\n",
       "7                   boston_BeaconHill\n",
       "8                     boston_Brighton\n",
       "9                boston_Cambridgeport\n",
       "10                 boston_Charlestown\n",
       "11                   boston_Chinatown\n",
       "12                  boston_Dorchester\n",
       "13                    boston_Downtown\n",
       "14               boston_EVERETT_02149\n",
       "15                  boston_EastBoston\n",
       "16               boston_EastCambridge\n",
       "17                      boston_Fenway\n",
       "18                boston_JamaicaPlain\n",
       "19             boston_LeatherDistrict\n",
       "20         boston_LongwoodMedicalArea\n",
       "21               boston_MEDFORD_02155\n",
       "22                boston_MidCambridge\n",
       "23                 boston_MissionHill\n",
       "24            boston_NeighborhoodNine\n",
       "25              boston_NorthCambridge\n",
       "26                    boston_NorthEnd\n",
       "27                   boston_Riverside\n",
       "28                     boston_Roxbury\n",
       "29            boston_SOMERVILLE_02143\n",
       "                    ...              \n",
       "89     sanfrancisco_CastroUpperMarket\n",
       "90             sanfrancisco_Chinatown\n",
       "91        sanfrancisco_DiamondHeights\n",
       "92              sanfrancisco_Downtown\n",
       "93             sanfrancisco_Excelsior\n",
       "94     sanfrancisco_FinancialDistrict\n",
       "95              sanfrancisco_GlenPark\n",
       "96         sanfrancisco_HaightAshbury\n",
       "97         sanfrancisco_InnerRichmond\n",
       "98           sanfrancisco_InnerSunset\n",
       "99             sanfrancisco_Lakeshore\n",
       "100               sanfrancisco_Marina\n",
       "101              sanfrancisco_Mission\n",
       "102              sanfrancisco_NobHill\n",
       "103            sanfrancisco_NoeValley\n",
       "104           sanfrancisco_NorthBeach\n",
       "105            sanfrancisco_OceanView\n",
       "106         sanfrancisco_OuterMission\n",
       "107        sanfrancisco_OuterRichmond\n",
       "108          sanfrancisco_OuterSunset\n",
       "109       sanfrancisco_PacificHeights\n",
       "110             sanfrancisco_Parkside\n",
       "111          sanfrancisco_PotreroHill\n",
       "112      sanfrancisco_PresidioHeights\n",
       "113          sanfrancisco_RussianHill\n",
       "114             sanfrancisco_Seacliff\n",
       "115        sanfrancisco_SouthOfMarket\n",
       "116            sanfrancisco_TwinPeaks\n",
       "117      sanfrancisco_WestOfTwinPeaks\n",
       "118      sanfrancisco_WesternAddition\n",
       "Name: label, dtype: object"
      ]
     },
     "execution_count": 66,
     "metadata": {},
     "output_type": "execute_result"
    }
   ],
   "source": [
    "label_df = pd.read_csv(dataroot+'test_stats_all.csv')\n",
    "label_df = label_df[['label','label_num']].drop_duplicates()\n",
    "labels = label_df.sort(['label_num']).reset_index()['label']\n",
    "labels"
   ]
  },
  {
   "cell_type": "code",
   "execution_count": 64,
   "metadata": {
    "collapsed": false
   },
   "outputs": [
    {
     "ename": "NameError",
     "evalue": "name 'label' is not defined",
     "output_type": "error",
     "traceback": [
      "\u001b[1;31m---------------------------------------------------------------------------\u001b[0m",
      "\u001b[1;31mNameError\u001b[0m                                 Traceback (most recent call last)",
      "\u001b[1;32m<ipython-input-64-bc0eac96da45>\u001b[0m in \u001b[0;36m<module>\u001b[1;34m()\u001b[0m\n\u001b[1;32m----> 1\u001b[1;33m \u001b[0mlabel\u001b[0m\u001b[1;33m.\u001b[0m\u001b[0mto_csv\u001b[0m\u001b[1;33m(\u001b[0m\u001b[0mdataroot\u001b[0m\u001b[1;33m+\u001b[0m\u001b[1;34m'neighborhoods_all.csv'\u001b[0m\u001b[1;33m)\u001b[0m\u001b[1;33m\u001b[0m\u001b[0m\n\u001b[0m",
      "\u001b[1;31mNameError\u001b[0m: name 'label' is not defined"
     ]
    }
   ],
   "source": [
    "label.to_csv(dataroot+'neighborhoods_all.csv')"
   ]
  },
  {
   "cell_type": "code",
   "execution_count": 23,
   "metadata": {
    "collapsed": false
   },
   "outputs": [],
   "source": [
    "confuse_df.columns = labels"
   ]
  },
  {
   "cell_type": "code",
   "execution_count": 24,
   "metadata": {
    "collapsed": false
   },
   "outputs": [
    {
     "data": {
      "text/html": [
       "<div>\n",
       "<table border=\"1\" class=\"dataframe\">\n",
       "  <thead>\n",
       "    <tr style=\"text-align: right;\">\n",
       "      <th>label</th>\n",
       "      <th>boston_Agassiz</th>\n",
       "      <th>boston_Allston</th>\n",
       "      <th>boston_Area2MIT</th>\n",
       "      <th>boston_BROOKLINE_02445</th>\n",
       "      <th>boston_BROOKLINE_02446</th>\n",
       "      <th>boston_BackBay</th>\n",
       "      <th>boston_BayVillage</th>\n",
       "      <th>boston_BeaconHill</th>\n",
       "      <th>boston_Brighton</th>\n",
       "      <th>boston_Cambridgeport</th>\n",
       "      <th>...</th>\n",
       "      <th>sanfrancisco_PacificHeights</th>\n",
       "      <th>sanfrancisco_Parkside</th>\n",
       "      <th>sanfrancisco_PotreroHill</th>\n",
       "      <th>sanfrancisco_PresidioHeights</th>\n",
       "      <th>sanfrancisco_RussianHill</th>\n",
       "      <th>sanfrancisco_Seacliff</th>\n",
       "      <th>sanfrancisco_SouthOfMarket</th>\n",
       "      <th>sanfrancisco_TwinPeaks</th>\n",
       "      <th>sanfrancisco_WestOfTwinPeaks</th>\n",
       "      <th>sanfrancisco_WesternAddition</th>\n",
       "    </tr>\n",
       "    <tr>\n",
       "      <th>label</th>\n",
       "      <th></th>\n",
       "      <th></th>\n",
       "      <th></th>\n",
       "      <th></th>\n",
       "      <th></th>\n",
       "      <th></th>\n",
       "      <th></th>\n",
       "      <th></th>\n",
       "      <th></th>\n",
       "      <th></th>\n",
       "      <th></th>\n",
       "      <th></th>\n",
       "      <th></th>\n",
       "      <th></th>\n",
       "      <th></th>\n",
       "      <th></th>\n",
       "      <th></th>\n",
       "      <th></th>\n",
       "      <th></th>\n",
       "      <th></th>\n",
       "      <th></th>\n",
       "    </tr>\n",
       "  </thead>\n",
       "  <tbody>\n",
       "    <tr>\n",
       "      <th>boston_Agassiz</th>\n",
       "      <td>0.000000</td>\n",
       "      <td>0.27492</td>\n",
       "      <td>1.18640</td>\n",
       "      <td>0.00000</td>\n",
       "      <td>0.80538</td>\n",
       "      <td>0.29958</td>\n",
       "      <td>0.00000</td>\n",
       "      <td>0.00000</td>\n",
       "      <td>0.18399</td>\n",
       "      <td>0.00000</td>\n",
       "      <td>...</td>\n",
       "      <td>0.00000</td>\n",
       "      <td>0</td>\n",
       "      <td>0.00000</td>\n",
       "      <td>0.000000</td>\n",
       "      <td>0</td>\n",
       "      <td>0</td>\n",
       "      <td>0.000000</td>\n",
       "      <td>0.00000</td>\n",
       "      <td>0.00000</td>\n",
       "      <td>0.00000</td>\n",
       "    </tr>\n",
       "    <tr>\n",
       "      <th>boston_Allston</th>\n",
       "      <td>0.003822</td>\n",
       "      <td>0.00000</td>\n",
       "      <td>0.00000</td>\n",
       "      <td>0.83948</td>\n",
       "      <td>0.24194</td>\n",
       "      <td>0.00000</td>\n",
       "      <td>0.00000</td>\n",
       "      <td>0.04361</td>\n",
       "      <td>0.26084</td>\n",
       "      <td>0.00000</td>\n",
       "      <td>...</td>\n",
       "      <td>0.00000</td>\n",
       "      <td>0</td>\n",
       "      <td>0.61225</td>\n",
       "      <td>0.000000</td>\n",
       "      <td>0</td>\n",
       "      <td>0</td>\n",
       "      <td>0.057937</td>\n",
       "      <td>0.24468</td>\n",
       "      <td>0.37144</td>\n",
       "      <td>0.00000</td>\n",
       "    </tr>\n",
       "    <tr>\n",
       "      <th>boston_Area2MIT</th>\n",
       "      <td>0.328260</td>\n",
       "      <td>0.86088</td>\n",
       "      <td>0.00000</td>\n",
       "      <td>0.10457</td>\n",
       "      <td>0.00000</td>\n",
       "      <td>0.96936</td>\n",
       "      <td>0.00000</td>\n",
       "      <td>0.00000</td>\n",
       "      <td>0.19028</td>\n",
       "      <td>0.17483</td>\n",
       "      <td>...</td>\n",
       "      <td>0.54077</td>\n",
       "      <td>0</td>\n",
       "      <td>0.00000</td>\n",
       "      <td>0.000000</td>\n",
       "      <td>0</td>\n",
       "      <td>0</td>\n",
       "      <td>0.000000</td>\n",
       "      <td>0.00000</td>\n",
       "      <td>0.13007</td>\n",
       "      <td>0.18902</td>\n",
       "    </tr>\n",
       "    <tr>\n",
       "      <th>boston_BROOKLINE_02445</th>\n",
       "      <td>1.541300</td>\n",
       "      <td>0.29580</td>\n",
       "      <td>0.62410</td>\n",
       "      <td>0.00000</td>\n",
       "      <td>1.97900</td>\n",
       "      <td>0.00000</td>\n",
       "      <td>0.00000</td>\n",
       "      <td>0.26144</td>\n",
       "      <td>0.72806</td>\n",
       "      <td>0.40572</td>\n",
       "      <td>...</td>\n",
       "      <td>0.00000</td>\n",
       "      <td>0</td>\n",
       "      <td>0.00000</td>\n",
       "      <td>0.004507</td>\n",
       "      <td>0</td>\n",
       "      <td>0</td>\n",
       "      <td>0.000000</td>\n",
       "      <td>0.00000</td>\n",
       "      <td>0.00000</td>\n",
       "      <td>0.00000</td>\n",
       "    </tr>\n",
       "    <tr>\n",
       "      <th>boston_BROOKLINE_02446</th>\n",
       "      <td>2.277600</td>\n",
       "      <td>0.79079</td>\n",
       "      <td>0.28199</td>\n",
       "      <td>1.12070</td>\n",
       "      <td>0.00000</td>\n",
       "      <td>0.87979</td>\n",
       "      <td>0.34719</td>\n",
       "      <td>0.22071</td>\n",
       "      <td>1.92040</td>\n",
       "      <td>0.10626</td>\n",
       "      <td>...</td>\n",
       "      <td>0.00000</td>\n",
       "      <td>0</td>\n",
       "      <td>0.00000</td>\n",
       "      <td>0.000000</td>\n",
       "      <td>0</td>\n",
       "      <td>0</td>\n",
       "      <td>0.542850</td>\n",
       "      <td>0.00000</td>\n",
       "      <td>0.00000</td>\n",
       "      <td>0.12937</td>\n",
       "    </tr>\n",
       "  </tbody>\n",
       "</table>\n",
       "<p>5 rows × 119 columns</p>\n",
       "</div>"
      ],
      "text/plain": [
       "label                   boston_Agassiz  boston_Allston  boston_Area2MIT  \\\n",
       "label                                                                     \n",
       "boston_Agassiz                0.000000         0.27492          1.18640   \n",
       "boston_Allston                0.003822         0.00000          0.00000   \n",
       "boston_Area2MIT               0.328260         0.86088          0.00000   \n",
       "boston_BROOKLINE_02445        1.541300         0.29580          0.62410   \n",
       "boston_BROOKLINE_02446        2.277600         0.79079          0.28199   \n",
       "\n",
       "label                   boston_BROOKLINE_02445  boston_BROOKLINE_02446  \\\n",
       "label                                                                    \n",
       "boston_Agassiz                         0.00000                 0.80538   \n",
       "boston_Allston                         0.83948                 0.24194   \n",
       "boston_Area2MIT                        0.10457                 0.00000   \n",
       "boston_BROOKLINE_02445                 0.00000                 1.97900   \n",
       "boston_BROOKLINE_02446                 1.12070                 0.00000   \n",
       "\n",
       "label                   boston_BackBay  boston_BayVillage  boston_BeaconHill  \\\n",
       "label                                                                          \n",
       "boston_Agassiz                 0.29958            0.00000            0.00000   \n",
       "boston_Allston                 0.00000            0.00000            0.04361   \n",
       "boston_Area2MIT                0.96936            0.00000            0.00000   \n",
       "boston_BROOKLINE_02445         0.00000            0.00000            0.26144   \n",
       "boston_BROOKLINE_02446         0.87979            0.34719            0.22071   \n",
       "\n",
       "label                   boston_Brighton  boston_Cambridgeport  \\\n",
       "label                                                           \n",
       "boston_Agassiz                  0.18399               0.00000   \n",
       "boston_Allston                  0.26084               0.00000   \n",
       "boston_Area2MIT                 0.19028               0.17483   \n",
       "boston_BROOKLINE_02445          0.72806               0.40572   \n",
       "boston_BROOKLINE_02446          1.92040               0.10626   \n",
       "\n",
       "label                               ...               \\\n",
       "label                               ...                \n",
       "boston_Agassiz                      ...                \n",
       "boston_Allston                      ...                \n",
       "boston_Area2MIT                     ...                \n",
       "boston_BROOKLINE_02445              ...                \n",
       "boston_BROOKLINE_02446              ...                \n",
       "\n",
       "label                   sanfrancisco_PacificHeights  sanfrancisco_Parkside  \\\n",
       "label                                                                        \n",
       "boston_Agassiz                              0.00000                      0   \n",
       "boston_Allston                              0.00000                      0   \n",
       "boston_Area2MIT                             0.54077                      0   \n",
       "boston_BROOKLINE_02445                      0.00000                      0   \n",
       "boston_BROOKLINE_02446                      0.00000                      0   \n",
       "\n",
       "label                   sanfrancisco_PotreroHill  \\\n",
       "label                                              \n",
       "boston_Agassiz                           0.00000   \n",
       "boston_Allston                           0.61225   \n",
       "boston_Area2MIT                          0.00000   \n",
       "boston_BROOKLINE_02445                   0.00000   \n",
       "boston_BROOKLINE_02446                   0.00000   \n",
       "\n",
       "label                   sanfrancisco_PresidioHeights  \\\n",
       "label                                                  \n",
       "boston_Agassiz                              0.000000   \n",
       "boston_Allston                              0.000000   \n",
       "boston_Area2MIT                             0.000000   \n",
       "boston_BROOKLINE_02445                      0.004507   \n",
       "boston_BROOKLINE_02446                      0.000000   \n",
       "\n",
       "label                   sanfrancisco_RussianHill  sanfrancisco_Seacliff  \\\n",
       "label                                                                     \n",
       "boston_Agassiz                                 0                      0   \n",
       "boston_Allston                                 0                      0   \n",
       "boston_Area2MIT                                0                      0   \n",
       "boston_BROOKLINE_02445                         0                      0   \n",
       "boston_BROOKLINE_02446                         0                      0   \n",
       "\n",
       "label                   sanfrancisco_SouthOfMarket  sanfrancisco_TwinPeaks  \\\n",
       "label                                                                        \n",
       "boston_Agassiz                            0.000000                 0.00000   \n",
       "boston_Allston                            0.057937                 0.24468   \n",
       "boston_Area2MIT                           0.000000                 0.00000   \n",
       "boston_BROOKLINE_02445                    0.000000                 0.00000   \n",
       "boston_BROOKLINE_02446                    0.542850                 0.00000   \n",
       "\n",
       "label                   sanfrancisco_WestOfTwinPeaks  \\\n",
       "label                                                  \n",
       "boston_Agassiz                               0.00000   \n",
       "boston_Allston                               0.37144   \n",
       "boston_Area2MIT                              0.13007   \n",
       "boston_BROOKLINE_02445                       0.00000   \n",
       "boston_BROOKLINE_02446                       0.00000   \n",
       "\n",
       "label                   sanfrancisco_WesternAddition  \n",
       "label                                                 \n",
       "boston_Agassiz                               0.00000  \n",
       "boston_Allston                               0.00000  \n",
       "boston_Area2MIT                              0.18902  \n",
       "boston_BROOKLINE_02445                       0.00000  \n",
       "boston_BROOKLINE_02446                       0.12937  \n",
       "\n",
       "[5 rows x 119 columns]"
      ]
     },
     "execution_count": 24,
     "metadata": {},
     "output_type": "execute_result"
    }
   ],
   "source": [
    "#confuse_df.columns = cats_boston\n",
    "confuse_df.index = confuse_df.columns\n",
    "confuse_df.head()"
   ]
  },
  {
   "cell_type": "code",
   "execution_count": 25,
   "metadata": {
    "collapsed": false
   },
   "outputs": [
    {
     "data": {
      "text/plain": [
       "matrix([[ 0.      ,  0.139371,  0.75733 , ...,  0.      ,  0.      ,  0.      ],\n",
       "        [ 0.139371,  0.      ,  0.43044 , ...,  0.321975,  0.230013,  0.      ],\n",
       "        [ 0.75733 ,  0.43044 ,  0.      , ...,  0.      ,  0.065035,\n",
       "          0.09451 ],\n",
       "        ..., \n",
       "        [ 0.      ,  0.321975,  0.      , ...,  0.      ,  0.85413 ,\n",
       "          0.467955],\n",
       "        [ 0.      ,  0.230013,  0.065035, ...,  0.85413 ,  0.      ,\n",
       "          0.08243 ],\n",
       "        [ 0.      ,  0.      ,  0.09451 , ...,  0.467955,  0.08243 ,  0.      ]])"
      ]
     },
     "execution_count": 25,
     "metadata": {},
     "output_type": "execute_result"
    }
   ],
   "source": [
    "confuse_matrix = np.matrix(confuse_df)\n",
    "# make connectivity symmetric\n",
    "confuse_matrix = 0.5 * (confuse_matrix + confuse_matrix.T)\n",
    "confuse_matrix"
   ]
  },
  {
   "cell_type": "markdown",
   "metadata": {},
   "source": [
    "### below is for javascript (node-link graph; cluster map)"
   ]
  },
  {
   "cell_type": "code",
   "execution_count": 26,
   "metadata": {
    "collapsed": false
   },
   "outputs": [
    {
     "data": {
      "text/html": [
       "<div>\n",
       "<table border=\"1\" class=\"dataframe\">\n",
       "  <thead>\n",
       "    <tr style=\"text-align: right;\">\n",
       "      <th></th>\n",
       "      <th>source</th>\n",
       "      <th>target</th>\n",
       "      <th>weight</th>\n",
       "    </tr>\n",
       "  </thead>\n",
       "  <tbody>\n",
       "    <tr>\n",
       "      <th>0</th>\n",
       "      <td>boston_Agassiz</td>\n",
       "      <td>boston_Allston</td>\n",
       "      <td>0.139371</td>\n",
       "    </tr>\n",
       "    <tr>\n",
       "      <th>1</th>\n",
       "      <td>boston_Agassiz</td>\n",
       "      <td>boston_Area2MIT</td>\n",
       "      <td>0.757330</td>\n",
       "    </tr>\n",
       "    <tr>\n",
       "      <th>2</th>\n",
       "      <td>boston_Agassiz</td>\n",
       "      <td>boston_BROOKLINE_02445</td>\n",
       "      <td>0.770650</td>\n",
       "    </tr>\n",
       "    <tr>\n",
       "      <th>3</th>\n",
       "      <td>boston_Agassiz</td>\n",
       "      <td>boston_BROOKLINE_02446</td>\n",
       "      <td>1.541490</td>\n",
       "    </tr>\n",
       "    <tr>\n",
       "      <th>4</th>\n",
       "      <td>boston_Agassiz</td>\n",
       "      <td>boston_BackBay</td>\n",
       "      <td>0.149790</td>\n",
       "    </tr>\n",
       "  </tbody>\n",
       "</table>\n",
       "</div>"
      ],
      "text/plain": [
       "           source                  target    weight\n",
       "0  boston_Agassiz          boston_Allston  0.139371\n",
       "1  boston_Agassiz         boston_Area2MIT  0.757330\n",
       "2  boston_Agassiz  boston_BROOKLINE_02445  0.770650\n",
       "3  boston_Agassiz  boston_BROOKLINE_02446  1.541490\n",
       "4  boston_Agassiz          boston_BackBay  0.149790"
      ]
     },
     "execution_count": 26,
     "metadata": {},
     "output_type": "execute_result"
    }
   ],
   "source": [
    "link_lst = []\n",
    "for i in range(len(confuse_df)):\n",
    "    for j in range(i+1, len(confuse_df)):\n",
    "        link_lst = link_lst + [(confuse_df.columns[i], confuse_df.columns[j], confuse_matrix[i,j])]\n",
    "link_df = pd.DataFrame(link_lst, columns = [\"source\", 'target', 'weight'])\n",
    "link_df.to_csv(dataroot+\"link_all.csv\")\n",
    "link_df.head()"
   ]
  },
  {
   "cell_type": "code",
   "execution_count": 27,
   "metadata": {
    "collapsed": true
   },
   "outputs": [],
   "source": [
    "# http://scikit-learn.org/stable/auto_examples/cluster/plot_cluster_comparison.html\n",
    "for i in range(2,8):\n",
    "    spectral = cluster.SpectralClustering(n_clusters=i,\n",
    "                                          eigen_solver='arpack',\n",
    "                                          affinity=\"precomputed\")\n",
    "    y_pred = spectral.fit_predict(confuse_matrix)\n",
    "    confuse_df['cluster_outof_'+str(i)] = y_pred\n",
    "confuse_df.to_csv(dataroot+'confusion_all.csv')"
   ]
  },
  {
   "cell_type": "code",
   "execution_count": 72,
   "metadata": {
    "collapsed": false
   },
   "outputs": [],
   "source": [
    "pd.DataFrame(confuse_df.index).to_csv(dataroot+'neighborhood_all.csv')"
   ]
  },
  {
   "cell_type": "markdown",
   "metadata": {},
   "source": [
    "### below is for visualizing in ipynb"
   ]
  },
  {
   "cell_type": "code",
   "execution_count": 53,
   "metadata": {
    "collapsed": false
   },
   "outputs": [],
   "source": [
    "spectral = cluster.SpectralClustering(n_clusters=3,\n",
    "                                      eigen_solver='arpack',\n",
    "                                      affinity=\"precomputed\")\n",
    "# y_pred = spectral.fit_predict(conf_matrix)\n",
    "# order = np.argsort(y_pred)\n",
    "# reorderd_mtx = np.matrix(np.array(conf_matrix)[order][:,[order]])"
   ]
  },
  {
   "cell_type": "code",
   "execution_count": 54,
   "metadata": {
    "collapsed": false
   },
   "outputs": [
    {
     "data": {
      "text/plain": [
       "array([2, 2, 2, 2, 2, 0, 2, 2, 2, 2, 2, 0, 2, 0, 2, 2, 2, 2, 2, 0, 2, 2, 2,\n",
       "       2, 2, 2, 2, 2, 2, 2, 2, 2, 2, 2, 2, 2, 2, 2, 2, 2, 2, 2, 2, 2, 2, 2,\n",
       "       2, 0, 2, 2, 0, 2, 2, 2, 2, 2, 2, 0, 0, 2, 0, 0, 0, 0, 0, 0, 0, 0, 2,\n",
       "       0, 0, 0, 2, 0, 0, 0, 0, 2, 2, 2, 0, 0, 0, 0, 2, 2, 0, 1, 1, 1, 0, 1,\n",
       "       0, 1, 0, 1, 1, 1, 1, 1, 1, 1, 1, 1, 1, 1, 1, 1, 1, 1, 1, 1, 1, 1, 1,\n",
       "       1, 1, 1, 1])"
      ]
     },
     "execution_count": 54,
     "metadata": {},
     "output_type": "execute_result"
    }
   ],
   "source": [
    "# predict cluster memberships\n",
    "y_pred = spectral.fit_predict(confuse_matrix)\n",
    "y_pred"
   ]
  },
  {
   "cell_type": "code",
   "execution_count": 55,
   "metadata": {
    "collapsed": false
   },
   "outputs": [],
   "source": [
    "# confuse_df['cluster_outof_'+str(i)] = y_pred\n",
    "# confuse_df.to_csv(dataroot+'confusion_boston.csv')"
   ]
  },
  {
   "cell_type": "code",
   "execution_count": 56,
   "metadata": {
    "collapsed": false
   },
   "outputs": [],
   "source": [
    "orderind = np.argsort(y_pred)"
   ]
  },
  {
   "cell_type": "code",
   "execution_count": 57,
   "metadata": {
    "collapsed": false
   },
   "outputs": [
    {
     "data": {
      "text/plain": [
       "array([0, 0, 0, 0, 0, 0, 0, 0, 0, 0, 0, 0, 0, 0, 0, 0, 0, 0, 0, 0, 0, 0, 0,\n",
       "       0, 0, 0, 0, 0, 0, 0, 0, 1, 1, 1, 1, 1, 1, 1, 1, 1, 1, 1, 1, 1, 1, 1,\n",
       "       1, 1, 1, 1, 1, 1, 1, 1, 1, 1, 1, 1, 1, 1, 2, 2, 2, 2, 2, 2, 2, 2, 2,\n",
       "       2, 2, 2, 2, 2, 2, 2, 2, 2, 2, 2, 2, 2, 2, 2, 2, 2, 2, 2, 2, 2, 2, 2,\n",
       "       2, 2, 2, 2, 2, 2, 2, 2, 2, 2, 2, 2, 2, 2, 2, 2, 2, 2, 2, 2, 2, 2, 2,\n",
       "       2, 2, 2, 2])"
      ]
     },
     "execution_count": 57,
     "metadata": {},
     "output_type": "execute_result"
    }
   ],
   "source": [
    "y_pred[orderind]"
   ]
  },
  {
   "cell_type": "code",
   "execution_count": 60,
   "metadata": {
    "collapsed": false
   },
   "outputs": [
    {
     "data": {
      "text/plain": [
       "array(['newyork_GarmentDistrict', 'sanfrancisco_Downtown',\n",
       "       'newyork_Yorkville', 'sanfrancisco_FinancialDistrict',\n",
       "       'newyork_WestVillage', 'newyork_UpperWestSide',\n",
       "       'newyork_UpperEastSide', 'newyork_Tribeca', 'newyork_Soho',\n",
       "       'newyork_NorthSuttonArea', 'chicago_Loop', 'boston_LeatherDistrict',\n",
       "       'newyork_MurrayHill', 'newyork_Midtown', 'sanfrancisco_Chinatown',\n",
       "       'chicago_NearNorthSide', 'newyork_LittleItaly',\n",
       "       'newyork_EastVillage', 'newyork_EastHarlem', 'newyork_Clinton',\n",
       "       'newyork_Chinatown', 'boston_BackBay', 'newyork_LowerEastSide',\n",
       "       'newyork_Chelsea', 'newyork_CarnegieHill', 'newyork_BatteryPark',\n",
       "       'newyork_Gramercy', 'boston_Chinatown', 'newyork_GreenwichVillage',\n",
       "       'boston_Downtown', 'newyork_FinancialDistrict',\n",
       "       'sanfrancisco_Bayview', 'sanfrancisco_WestOfTwinPeaks',\n",
       "       'sanfrancisco_WesternAddition', 'sanfrancisco_DiamondHeights',\n",
       "       'sanfrancisco_TwinPeaks', 'sanfrancisco_SouthOfMarket',\n",
       "       'sanfrancisco_Seacliff', 'sanfrancisco_RussianHill',\n",
       "       'sanfrancisco_PresidioHeights', 'sanfrancisco_PotreroHill',\n",
       "       'sanfrancisco_Parkside', 'sanfrancisco_PacificHeights',\n",
       "       'sanfrancisco_OuterSunset', 'sanfrancisco_OuterRichmond',\n",
       "       'sanfrancisco_OuterMission', 'sanfrancisco_OceanView',\n",
       "       'sanfrancisco_CastroUpperMarket', 'sanfrancisco_NoeValley',\n",
       "       'sanfrancisco_NorthBeach', 'sanfrancisco_Mission',\n",
       "       'sanfrancisco_Excelsior', 'sanfrancisco_GlenPark',\n",
       "       'sanfrancisco_HaightAshbury', 'sanfrancisco_InnerRichmond',\n",
       "       'sanfrancisco_NobHill', 'sanfrancisco_InnerSunset',\n",
       "       'sanfrancisco_Lakeshore', 'sanfrancisco_Marina',\n",
       "       'sanfrancisco_BernalHeights', 'newyork_TheWaterfront',\n",
       "       'newyork_Greenpoint', 'newyork_Steinway', 'newyork_Williamsburg',\n",
       "       'newyork_Woodside', 'newyork_Maspeth', 'newyork_SunnySide',\n",
       "       'boston_Agassiz', 'chicago_WestTown', 'boston_NorthEnd',\n",
       "       'boston_NorthCambridge', 'boston_NeighborhoodNine',\n",
       "       'boston_MissionHill', 'boston_MidCambridge', 'boston_MEDFORD_02155',\n",
       "       'boston_LongwoodMedicalArea', 'boston_JamaicaPlain',\n",
       "       'boston_Fenway', 'boston_EastCambridge', 'boston_Riverside',\n",
       "       'boston_EastBoston', 'boston_Dorchester', 'boston_Charlestown',\n",
       "       'boston_Cambridgeport', 'boston_Brighton', 'boston_BeaconHill',\n",
       "       'boston_BayVillage', 'boston_BROOKLINE_02446',\n",
       "       'boston_BROOKLINE_02445', 'boston_Area2MIT', 'boston_Allston',\n",
       "       'boston_EVERETT_02149', 'newyork_AstoriaLongIslandCity',\n",
       "       'boston_Roxbury', 'boston_SOMERVILLE_02144',\n",
       "       'chicago_SouthLawndale', 'chicago_NorthLawndale',\n",
       "       'chicago_NearWestSide', 'chicago_NearSouthSide',\n",
       "       'chicago_McKinleyPark', 'chicago_LowerWestSide',\n",
       "       'chicago_LoganSquare', 'chicago_LincolnPark',\n",
       "       'chicago_HumboldtPark', 'chicago_EastGarfieldPark',\n",
       "       'boston_SOMERVILLE_02143', 'chicago_Douglas',\n",
       "       'chicago_ArmourSquare', 'boston_WestEnd', 'boston_WestCambridge',\n",
       "       'boston_WellingtonHarrington', 'boston_WATERTOWN_02472',\n",
       "       'boston_ThePort', 'boston_SouthEnd', 'boston_SouthBostonWaterfront',\n",
       "       'boston_SouthBoston', 'boston_SOMERVILLE_02145',\n",
       "       'chicago_Bridgeport', 'newyork_CentralPark'], dtype=object)"
      ]
     },
     "execution_count": 60,
     "metadata": {},
     "output_type": "execute_result"
    }
   ],
   "source": [
    "# http://stackoverflow.com/questions/18547847/sort-rows-and-columns-of-a-matrix-by-another-list-with-numpy\n",
    "reorderd_confuse_matrix = np.matrix(np.array(confuse_matrix)[orderind][:,[orderind]])\n",
    "reorderd_cats = np.array(labels)[orderind]\n",
    "reorderd_cats"
   ]
  },
  {
   "cell_type": "code",
   "execution_count": 61,
   "metadata": {
    "collapsed": false,
    "scrolled": false
   },
   "outputs": [
    {
     "data": {
      "image/png": "[encoded data removed]",
      "text/plain": [
       "<matplotlib.figure.Figure at 0x21555b38>"
      ]
     },
     "metadata": {},
     "output_type": "display_data"
    }
   ],
   "source": [
    "# http://stackoverflow.com/questions/24190858/matplotlib-move-ticklabels-between-ticks\n",
    "# http://stackoverflow.com/questions/17109608/change-figure-size-and-figure-format-in-matplotlib\n",
    "fig = plt.figure(figsize=(18,18))\n",
    "\n",
    "ax = fig.add_subplot(111)\n",
    "im = ax.matshow(confuse_matrix, cmap='gray')\n",
    "#fig.colorbar(im)\n",
    "\n",
    "# Shift ticks to be at 0.5, 1.5, etc\n",
    "#for axis in [ax.xaxis, ax.yaxis]:\n",
    "ax.yaxis.set(ticks=np.arange(0, len(labels)), ticklabels = y_pred[orderind]) # labels)\n",
    "ax.xaxis.set(ticks=np.arange(0, len(labels)), ticklabels = y_pred[orderind]) # labels)\n",
    "\n",
    "labels = ax.get_xticklabels()\n",
    "plt.setp(labels, rotation=90)\n",
    "\n",
    "plt.show()"
   ]
  },
  {
   "cell_type": "code",
   "execution_count": 74,
   "metadata": {
    "collapsed": false,
    "scrolled": false
   },
   "outputs": [
    {
     "data": {
      "image/png": "[encoded data removed]",
      "text/plain": [
       "<matplotlib.figure.Figure at 0x1c872320>"
      ]
     },
     "metadata": {},
     "output_type": "display_data"
    }
   ],
   "source": [
    "fig = plt.figure(figsize=(12,12))\n",
    "\n",
    "ax = fig.add_subplot(111)\n",
    "im = ax.matshow(reorderd_confuse_matrix, cmap='gray')\n",
    "#fig.colorbar(im)\n",
    "\n",
    "# Shift ticks to be at 0.5, 1.5, etc\n",
    "#for axis in [ax.xaxis, ax.yaxis]:\n",
    "ax.yaxis.set(ticks=np.arange(0, len(reorderd_cats)), ticklabels=reorderd_cats)\n",
    "ax.xaxis.set(ticks=np.arange(0, len(reorderd_cats)), ticklabels=reorderd_cats)\n",
    "\n",
    "labels = ax.get_xticklabels()\n",
    "plt.setp(labels, rotation=90)\n",
    "\n",
    "plt.show()"
   ]
  },
  {
   "cell_type": "markdown",
   "metadata": {},
   "source": [
    "### below are trials"
   ]
  },
  {
   "cell_type": "code",
   "execution_count": 133,
   "metadata": {
    "collapsed": false
   },
   "outputs": [],
   "source": [
    "spectral = cluster.SpectralClustering(n_clusters=2,\n",
    "                                      eigen_solver='lobpcg',\n",
    "                                      affinity=\"precomputed\")"
   ]
  },
  {
   "cell_type": "code",
   "execution_count": 134,
   "metadata": {
    "collapsed": true
   },
   "outputs": [],
   "source": [
    "n_samples = 50\n",
    "noisy_moons = datasets.make_moons(n_samples=n_samples, noise=.05)"
   ]
  },
  {
   "cell_type": "code",
   "execution_count": 135,
   "metadata": {
    "collapsed": false
   },
   "outputs": [
    {
     "data": {
      "text/plain": [
       "(array([[ 0.58148611,  0.76254981],\n",
       "        [ 1.95243209,  0.51519132],\n",
       "        [ 0.21855416, -0.23125171],\n",
       "        [ 1.95520899,  0.06916467],\n",
       "        [ 0.29348265, -0.25943801],\n",
       "        [ 0.05041012,  0.59029425],\n",
       "        [ 0.03108532,  0.24142774],\n",
       "        [ 0.07283069,  1.02615099],\n",
       "        [-0.98508263,  0.08231534],\n",
       "        [ 0.1262368 ,  0.99307559],\n",
       "        [ 1.51245643, -0.36774293],\n",
       "        [-0.1598357 ,  0.95682439],\n",
       "        [-0.39608513,  0.99045147],\n",
       "        [ 1.36649186, -0.3750856 ],\n",
       "        [ 0.07244064,  0.06818639],\n",
       "        [ 0.25420156,  1.02450566],\n",
       "        [ 1.08822287,  0.19083778],\n",
       "        [-1.00718102,  0.2601441 ],\n",
       "        [-0.710594  ,  0.6002055 ],\n",
       "        [-0.89249045,  0.3427353 ],\n",
       "        [ 1.03266347,  0.22404364],\n",
       "        [ 1.10917276, -0.51621262],\n",
       "        [ 1.81352631,  0.04587511],\n",
       "        [ 0.80515528, -0.48964824],\n",
       "        [ 0.46550891, -0.28447265],\n",
       "        [ 0.84152508,  0.6333977 ],\n",
       "        [ 0.94315288,  0.29457502],\n",
       "        [ 0.47517569,  0.84306134],\n",
       "        [ 0.31037328, -0.1666494 ],\n",
       "        [ 0.60685767, -0.47800371],\n",
       "        [ 2.01291357,  0.35512913],\n",
       "        [-0.27615896,  0.93057113],\n",
       "        [ 1.47190601, -0.33063545],\n",
       "        [ 1.32379646, -0.44417782],\n",
       "        [ 0.57200976,  0.62922238],\n",
       "        [-0.72078903,  0.80498291],\n",
       "        [ 1.73198216, -0.18351839],\n",
       "        [ 0.03497603,  0.35919844],\n",
       "        [-0.82114483,  0.46664337],\n",
       "        [ 0.9999731 , -0.01821316],\n",
       "        [-0.39758344,  0.91720396],\n",
       "        [ 0.79306935, -0.47371018],\n",
       "        [ 1.25324278, -0.48461117],\n",
       "        [-0.03087667,  0.04507248],\n",
       "        [ 0.44733509,  0.94297487],\n",
       "        [ 1.90249321,  0.28658099],\n",
       "        [ 0.85835285,  0.42997193],\n",
       "        [ 1.76545793, -0.09477224],\n",
       "        [-1.08901629,  0.02244365],\n",
       "        [-0.5644027 ,  0.83746762]]),\n",
       " array([0, 1, 1, 1, 1, 1, 1, 0, 0, 0, 1, 0, 0, 1, 1, 0, 0, 0, 0, 0, 0, 1, 1,\n",
       "        1, 1, 0, 0, 0, 1, 1, 1, 0, 1, 1, 0, 0, 1, 1, 0, 0, 0, 1, 1, 1, 0, 1,\n",
       "        0, 1, 0, 0], dtype=int64))"
      ]
     },
     "execution_count": 135,
     "metadata": {},
     "output_type": "execute_result"
    }
   ],
   "source": [
    "X, y = noisy_moons\n",
    "X,y"
   ]
  },
  {
   "cell_type": "code",
   "execution_count": 136,
   "metadata": {
    "collapsed": false
   },
   "outputs": [
    {
     "data": {
      "text/plain": [
       "array([[ 0. ,  0. ,  0. , ...,  0. ,  0. ,  0. ],\n",
       "       [ 0. ,  0. ,  0. , ...,  0.5,  0. ,  0. ],\n",
       "       [ 0. ,  0. ,  0. , ...,  0. ,  0.5,  0. ],\n",
       "       ..., \n",
       "       [ 0. ,  0.5,  0. , ...,  0. ,  0. ,  0. ],\n",
       "       [ 0. ,  0. ,  0.5, ...,  0. ,  0. ,  0. ],\n",
       "       [ 0. ,  0. ,  0. , ...,  0. ,  0. ,  0. ]])"
      ]
     },
     "execution_count": 136,
     "metadata": {},
     "output_type": "execute_result"
    }
   ],
   "source": [
    "# normalize dataset for easier parameter selection\n",
    "X = StandardScaler().fit_transform(X)\n",
    "connectivity = kneighbors_graph(X, n_neighbors=10, include_self=False)\n",
    "# make connectivity symmetric\n",
    "connectivity = 0.5 * (connectivity + connectivity.T)\n",
    "# http://scikit-learn.org/stable/modules/generated/sklearn.neighbors.kneighbors_graph.html\n",
    "# A is the matrix\n",
    "connectivity.A"
   ]
  },
  {
   "cell_type": "code",
   "execution_count": 137,
   "metadata": {
    "collapsed": false
   },
   "outputs": [
    {
     "data": {
      "text/plain": [
       "<matplotlib.collections.PathCollection at 0x227d3c50>"
      ]
     },
     "execution_count": 137,
     "metadata": {},
     "output_type": "execute_result"
    },
    {
     "data": {
      "image/png": "[encoded data removed]",
      "text/plain": [
       "<matplotlib.figure.Figure at 0x22537b70>"
      ]
     },
     "metadata": {},
     "output_type": "display_data"
    }
   ],
   "source": [
    "colors = np.array([x for x in 'bgrcmykbgrcmykbgrcmykbgrcmyk'])\n",
    "colors = np.hstack([colors] * 20)\n",
    "\n",
    "# predict cluster memberships\n",
    "y_pred = spectral.fit_predict(connectivity)\n",
    "# cls\n",
    "# plot\n",
    "plt.scatter(X[:, 0], X[:, 1], color=colors[y_pred].tolist(), s=10)\n"
   ]
  },
  {
   "cell_type": "code",
   "execution_count": null,
   "metadata": {
    "collapsed": true
   },
   "outputs": [],
   "source": []
  }
 ],
 "metadata": {
  "kernelspec": {
   "display_name": "Python 2",
   "language": "python",
   "name": "python2"
  },
  "language_info": {
   "codemirror_mode": {
    "name": "ipython",
    "version": 2
   },
   "file_extension": ".py",
   "mimetype": "text/x-python",
   "name": "python",
   "nbconvert_exporter": "python",
   "pygments_lexer": "ipython2",
   "version": "2.7.11"
  }
 },
 "nbformat": 4,
 "nbformat_minor": 0
}
